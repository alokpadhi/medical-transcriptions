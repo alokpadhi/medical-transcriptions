{
 "cells": [
  {
   "cell_type": "markdown",
   "id": "958c2e3c-8838-4e34-8ec1-4fe826271fa3",
   "metadata": {},
   "source": [
    "# Baseline"
   ]
  },
  {
   "cell_type": "markdown",
   "id": "34962b2d-f530-419a-aad8-3feb79fa012a",
   "metadata": {},
   "source": [
    "* First we will create a baseline and iteratively improve the performance with more complex models\n",
    "* Along the way we will try to fix any data related issues like data imbalance, trying different vecotorization methods etc"
   ]
  },
  {
   "cell_type": "markdown",
   "id": "83e63a93-07e2-4a23-a716-9f75994bf502",
   "metadata": {},
   "source": [
    "## Parameters to validate the final model"
   ]
  },
  {
   "cell_type": "markdown",
   "id": "78ddb2c0-0a57-448b-9546-416cce92d2e4",
   "metadata": {},
   "source": [
    "* Performance per class\n",
    "* Latency\n",
    "* Size of the model\n",
    "* Inference cost\n",
    "* Bias check\n",
    "* Maintenance Cost"
   ]
  },
  {
   "cell_type": "markdown",
   "id": "4d8f0cf0-35f2-44c0-a393-7297a09bda1d",
   "metadata": {},
   "source": [
    "## Baseline Model"
   ]
  },
  {
   "cell_type": "markdown",
   "id": "48ced4ab-ef31-44ed-ba50-3a79846803e6",
   "metadata": {},
   "source": [
    "* **Randomly generated targets**\n",
    "* **Simple rule based model**"
   ]
  },
  {
   "cell_type": "markdown",
   "id": "a71b5bab-69fa-429f-9b17-86610efbbf40",
   "metadata": {},
   "source": [
    "### Random Model"
   ]
  },
  {
   "cell_type": "code",
   "execution_count": 1,
   "id": "6e448671-2619-431f-bf2f-fea4682d208f",
   "metadata": {},
   "outputs": [],
   "source": [
    "import random"
   ]
  },
  {
   "cell_type": "code",
   "execution_count": 2,
   "id": "5c29947d-9e1f-4075-8032-2f8076288d3a",
   "metadata": {},
   "outputs": [
    {
     "name": "stdout",
     "output_type": "stream",
     "text": [
      "Looking in indexes: https://pypi.org/simple, https://pypi.ngc.nvidia.com\n",
      "Collecting seaborn\n",
      "  Downloading seaborn-0.11.2-py3-none-any.whl (292 kB)\n",
      "\u001b[K     |████████████████████████████████| 292 kB 24.8 MB/s eta 0:00:01\n",
      "\u001b[?25hRequirement already satisfied: matplotlib>=2.2 in /opt/conda/lib/python3.8/site-packages (from seaborn) (3.5.1)\n",
      "Requirement already satisfied: pandas>=0.23 in /opt/conda/lib/python3.8/site-packages (from seaborn) (1.3.5)\n",
      "Requirement already satisfied: scipy>=1.0 in /opt/conda/lib/python3.8/site-packages (from seaborn) (1.6.3)\n",
      "Requirement already satisfied: numpy>=1.15 in /opt/conda/lib/python3.8/site-packages (from seaborn) (1.22.2)\n",
      "Requirement already satisfied: cycler>=0.10 in /opt/conda/lib/python3.8/site-packages (from matplotlib>=2.2->seaborn) (0.11.0)\n",
      "Requirement already satisfied: kiwisolver>=1.0.1 in /opt/conda/lib/python3.8/site-packages (from matplotlib>=2.2->seaborn) (1.3.2)\n",
      "Requirement already satisfied: packaging>=20.0 in /opt/conda/lib/python3.8/site-packages (from matplotlib>=2.2->seaborn) (21.3)\n",
      "Requirement already satisfied: python-dateutil>=2.7 in /opt/conda/lib/python3.8/site-packages (from matplotlib>=2.2->seaborn) (2.8.2)\n",
      "Requirement already satisfied: pyparsing>=2.2.1 in /opt/conda/lib/python3.8/site-packages (from matplotlib>=2.2->seaborn) (3.0.7)\n",
      "Requirement already satisfied: fonttools>=4.22.0 in /opt/conda/lib/python3.8/site-packages (from matplotlib>=2.2->seaborn) (4.29.1)\n",
      "Requirement already satisfied: pillow>=6.2.0 in /opt/conda/lib/python3.8/site-packages (from matplotlib>=2.2->seaborn) (9.0.0)\n",
      "Requirement already satisfied: pytz>=2017.3 in /opt/conda/lib/python3.8/site-packages (from pandas>=0.23->seaborn) (2021.3)\n",
      "Requirement already satisfied: six>=1.5 in /opt/conda/lib/python3.8/site-packages (from python-dateutil>=2.7->matplotlib>=2.2->seaborn) (1.16.0)\n",
      "Installing collected packages: seaborn\n",
      "Successfully installed seaborn-0.11.2\n",
      "\u001b[33mWARNING: Running pip as the 'root' user can result in broken permissions and conflicting behaviour with the system package manager. It is recommended to use a virtual environment instead: https://pip.pypa.io/warnings/venv\u001b[0m\n",
      "Note: you may need to restart the kernel to use updated packages.\n"
     ]
    }
   ],
   "source": [
    "%pip install seaborn"
   ]
  },
  {
   "cell_type": "code",
   "execution_count": 3,
   "id": "7de8a498-f07c-4776-80e5-4d250d67d6fb",
   "metadata": {},
   "outputs": [
    {
     "name": "stdout",
     "output_type": "stream",
     "text": [
      "Looking in indexes: https://pypi.org/simple, https://pypi.ngc.nvidia.com\n",
      "Collecting wandb\n",
      "  Downloading wandb-0.12.18-py2.py3-none-any.whl (1.8 MB)\n",
      "\u001b[K     |████████████████████████████████| 1.8 MB 21.6 MB/s eta 0:00:01\n",
      "\u001b[?25hCollecting GitPython>=1.0.0\n",
      "  Downloading GitPython-3.1.27-py3-none-any.whl (181 kB)\n",
      "\u001b[K     |████████████████████████████████| 181 kB 35.1 MB/s eta 0:00:01\n",
      "\u001b[?25hCollecting shortuuid>=0.5.0\n",
      "  Downloading shortuuid-1.0.9-py3-none-any.whl (9.4 kB)\n",
      "Collecting setproctitle\n",
      "  Downloading setproctitle-1.2.3-cp38-cp38-manylinux_2_5_x86_64.manylinux1_x86_64.manylinux_2_17_x86_64.manylinux2014_x86_64.whl (29 kB)\n",
      "Requirement already satisfied: six>=1.13.0 in /opt/conda/lib/python3.8/site-packages (from wandb) (1.16.0)\n",
      "Requirement already satisfied: Click!=8.0.0,>=7.0 in /opt/conda/lib/python3.8/site-packages (from wandb) (8.0.3)\n",
      "Collecting promise<3,>=2.0\n",
      "  Downloading promise-2.3.tar.gz (19 kB)\n",
      "Collecting sentry-sdk>=1.0.0\n",
      "  Downloading sentry_sdk-1.5.12-py2.py3-none-any.whl (145 kB)\n",
      "\u001b[K     |████████████████████████████████| 145 kB 30.8 MB/s eta 0:00:01\n",
      "\u001b[?25hRequirement already satisfied: PyYAML in /opt/conda/lib/python3.8/site-packages (from wandb) (5.4.1)\n",
      "Requirement already satisfied: psutil>=5.0.0 in /opt/conda/lib/python3.8/site-packages (from wandb) (5.9.0)\n",
      "Requirement already satisfied: protobuf<4.0dev,>=3.12.0 in /opt/conda/lib/python3.8/site-packages (from wandb) (3.19.4)\n",
      "Requirement already satisfied: setuptools in /opt/conda/lib/python3.8/site-packages (from wandb) (59.5.0)\n",
      "Requirement already satisfied: requests<3,>=2.0.0 in /opt/conda/lib/python3.8/site-packages (from wandb) (2.26.0)\n",
      "Collecting docker-pycreds>=0.4.0\n",
      "  Downloading docker_pycreds-0.4.0-py2.py3-none-any.whl (9.0 kB)\n",
      "Collecting pathtools\n",
      "  Downloading pathtools-0.1.2.tar.gz (11 kB)\n",
      "Collecting gitdb<5,>=4.0.1\n",
      "  Downloading gitdb-4.0.9-py3-none-any.whl (63 kB)\n",
      "\u001b[K     |████████████████████████████████| 63 kB 40.4 MB/s eta 0:00:01\n",
      "\u001b[?25hCollecting smmap<6,>=3.0.1\n",
      "  Downloading smmap-5.0.0-py3-none-any.whl (24 kB)\n",
      "Requirement already satisfied: charset-normalizer~=2.0.0 in /opt/conda/lib/python3.8/site-packages (from requests<3,>=2.0.0->wandb) (2.0.9)\n",
      "Requirement already satisfied: certifi>=2017.4.17 in /opt/conda/lib/python3.8/site-packages (from requests<3,>=2.0.0->wandb) (2021.10.8)\n",
      "Requirement already satisfied: urllib3<1.27,>=1.21.1 in /opt/conda/lib/python3.8/site-packages (from requests<3,>=2.0.0->wandb) (1.26.7)\n",
      "Requirement already satisfied: idna<4,>=2.5 in /opt/conda/lib/python3.8/site-packages (from requests<3,>=2.0.0->wandb) (3.1)\n",
      "Building wheels for collected packages: promise, pathtools\n",
      "  Building wheel for promise (setup.py) ... \u001b[?25ldone\n",
      "\u001b[?25h  Created wheel for promise: filename=promise-2.3-py3-none-any.whl size=21503 sha256=f6259f79e22eadff82b56d3fef1c4869bc1252b0a9117dc756c55d67efeb6e00\n",
      "  Stored in directory: /tmp/pip-ephem-wheel-cache-lp33cd6o/wheels/54/aa/01/724885182f93150035a2a91bce34a12877e8067a97baaf5dc8\n",
      "  Building wheel for pathtools (setup.py) ... \u001b[?25ldone\n",
      "\u001b[?25h  Created wheel for pathtools: filename=pathtools-0.1.2-py3-none-any.whl size=8807 sha256=2f559e8db87fe07f1b052fef98f04b8f4c980d68c559c1d99b9c4e91d906eed0\n",
      "  Stored in directory: /tmp/pip-ephem-wheel-cache-lp33cd6o/wheels/4c/8e/7e/72fbc243e1aeecae64a96875432e70d4e92f3d2d18123be004\n",
      "Successfully built promise pathtools\n",
      "Installing collected packages: smmap, gitdb, shortuuid, setproctitle, sentry-sdk, promise, pathtools, GitPython, docker-pycreds, wandb\n",
      "Successfully installed GitPython-3.1.27 docker-pycreds-0.4.0 gitdb-4.0.9 pathtools-0.1.2 promise-2.3 sentry-sdk-1.5.12 setproctitle-1.2.3 shortuuid-1.0.9 smmap-5.0.0 wandb-0.12.18\n",
      "\u001b[33mWARNING: Running pip as the 'root' user can result in broken permissions and conflicting behaviour with the system package manager. It is recommended to use a virtual environment instead: https://pip.pypa.io/warnings/venv\u001b[0m\n"
     ]
    }
   ],
   "source": [
    "# Weights and Bias to version the dataset\n",
    "!pip install wandb"
   ]
  },
  {
   "cell_type": "code",
   "execution_count": 4,
   "id": "3ce4d4b2-7e00-47f7-8529-7eb7da629635",
   "metadata": {},
   "outputs": [],
   "source": [
    "import nltk\n",
    "from nltk.corpus import stopwords\n",
    "from nltk.stem import PorterStemmer\n",
    "import re"
   ]
  },
  {
   "cell_type": "code",
   "execution_count": 5,
   "id": "a6ec871e-93b4-4f3b-a4c8-6b2eb927bebc",
   "metadata": {},
   "outputs": [],
   "source": [
    "import pandas as pd\n",
    "import numpy as np\n",
    "import matplotlib.pyplot as plt\n",
    "import seaborn as sns\n",
    "sns.set_theme(style=\"darkgrid\")\n",
    "import warnings\n",
    "warnings.filterwarnings(\"ignore\")"
   ]
  },
  {
   "cell_type": "code",
   "execution_count": 6,
   "id": "0ec73b45-ec77-4c7b-b0c8-9acdba69a44a",
   "metadata": {},
   "outputs": [],
   "source": [
    "import wandb"
   ]
  },
  {
   "cell_type": "code",
   "execution_count": 7,
   "id": "e20c305d-9991-4462-a577-9da5c2381cb6",
   "metadata": {},
   "outputs": [
    {
     "name": "stderr",
     "output_type": "stream",
     "text": [
      "\u001b[34m\u001b[1mwandb\u001b[0m: Logging into wandb.ai. (Learn how to deploy a W&B server locally: https://wandb.me/wandb-server)\n",
      "\u001b[34m\u001b[1mwandb\u001b[0m: You can find your API key in your browser here: https://wandb.ai/authorize\n"
     ]
    },
    {
     "name": "stdin",
     "output_type": "stream",
     "text": [
      "\u001b[34m\u001b[1mwandb\u001b[0m: Paste an API key from your profile and hit enter, or press ctrl+c to quit:  ········································\n"
     ]
    },
    {
     "name": "stderr",
     "output_type": "stream",
     "text": [
      "\u001b[34m\u001b[1mwandb\u001b[0m: Appending key for api.wandb.ai to your netrc file: /root/.netrc\n"
     ]
    },
    {
     "data": {
      "text/plain": [
       "True"
      ]
     },
     "execution_count": 7,
     "metadata": {},
     "output_type": "execute_result"
    }
   ],
   "source": [
    "wandb.login()"
   ]
  },
  {
   "cell_type": "code",
   "execution_count": 8,
   "id": "8c3c11af-5526-45e9-b5b9-c6cf47f307c2",
   "metadata": {},
   "outputs": [],
   "source": [
    "import ipywidgets as widgets"
   ]
  },
  {
   "cell_type": "code",
   "execution_count": 9,
   "id": "f31b0d36-a2d8-4f3a-b27f-daf54c033689",
   "metadata": {},
   "outputs": [],
   "source": [
    "import json"
   ]
  },
  {
   "cell_type": "code",
   "execution_count": 10,
   "id": "0dd93d02-1450-4435-8c4d-3b0e8cf19202",
   "metadata": {},
   "outputs": [],
   "source": [
    "# Label encoder to encode class labels\n",
    "class LabelEncoder(object):\n",
    "    \"\"\"Encode labels into unqiue ids/integers\"\"\"\n",
    "    def __init__(self, class_to_index={}):\n",
    "        self.class_to_index = class_to_index or {}\n",
    "        self.index_to_class = {v:k for k, v in self.class_to_index.items()}\n",
    "        self.classes = list(self.class_to_index.keys())\n",
    "        \n",
    "    def __len__(self):\n",
    "        return len(self.class_to_index)\n",
    "    \n",
    "    def __str__(self):\n",
    "        return f\"<LabelEncoder(num_classes={len(self)})>\"\n",
    "    \n",
    "    def fit(self, y):\n",
    "        classes = np.unique(y)\n",
    "        for i, class_ in enumerate(classes):\n",
    "            self.class_to_index[class_] = i\n",
    "        self.index_to_class = {v:k for k, v in self.class_to_index.items()}\n",
    "        self.classes = list(self.class_to_index.keys())\n",
    "        return self\n",
    "    \n",
    "    def encode(self, y):\n",
    "        encoded = np.zeros(len(y), dtype=int)\n",
    "        for i, item in enumerate(y):\n",
    "            encoded[i] = self.class_to_index[item]\n",
    "        return encoded\n",
    "    \n",
    "    def decode(self, y):\n",
    "        classes = []\n",
    "        for i, item in enumerate(y):\n",
    "            classes.append(self.index_to_class[item])\n",
    "            \n",
    "        return classes\n",
    "    \n",
    "    def save(self, fp):\n",
    "        with open(fp, \"w\") as fp:\n",
    "            contents = {\"class_to_index\": self.class_to_index}\n",
    "            json.dump(contents, fp, indent=4, sort_keys=False)\n",
    "    \n",
    "    @classmethod\n",
    "    def load(cls, fp):\n",
    "        with open(fp, \"r\") as fp:\n",
    "            kwargs = json.load(fp=fp)\n",
    "        return cls(**kwargs)"
   ]
  },
  {
   "cell_type": "code",
   "execution_count": 11,
   "id": "2d2445f4-0ca1-4c2a-89d3-812ba9a1fdd0",
   "metadata": {},
   "outputs": [],
   "source": [
    "label_encoder = LabelEncoder.load(\"../../data_artifacts/label_encoder.json\")"
   ]
  },
  {
   "cell_type": "code",
   "execution_count": 12,
   "id": "7032e812-be3a-440d-86ca-e1f66123414b",
   "metadata": {},
   "outputs": [],
   "source": [
    "# # use this code to download the split dataset files\n",
    "# import wandb\n",
    "# run = wandb.init()\n",
    "# artifact = run.use_artifact('alokpadhi/Medical-Transcription/Dataset_V1_0:v0', type='raw_data')\n",
    "# artifact_dir = artifact.download()"
   ]
  },
  {
   "cell_type": "code",
   "execution_count": 13,
   "id": "aa70a57a-42ba-4305-87b4-2c318760ce49",
   "metadata": {},
   "outputs": [],
   "source": [
    "train_df = pd.read_parquet(\"../../dataset/v1.0/train/train.parquet\")\n",
    "val_df = pd.read_parquet(\"../../dataset/v1.0/val/val.parquet\")\n",
    "test_df = pd.read_parquet(\"../../dataset/v1.0/test/test.parquet\")"
   ]
  },
  {
   "cell_type": "code",
   "execution_count": 14,
   "id": "b1317b62-5b00-416e-b3b1-819ac779361d",
   "metadata": {},
   "outputs": [
    {
     "data": {
      "text/plain": [
       "((3476, 2), (745, 2), (745, 2))"
      ]
     },
     "execution_count": 14,
     "metadata": {},
     "output_type": "execute_result"
    }
   ],
   "source": [
    "# validate shapes\n",
    "train_df.shape, val_df.shape, test_df.shape"
   ]
  },
  {
   "cell_type": "code",
   "execution_count": 15,
   "id": "a74a8cc3-9710-45ee-8dbe-334dd276a8e8",
   "metadata": {},
   "outputs": [],
   "source": [
    "# Feature and target\n",
    "X_train = train_df.transcription.to_numpy()\n",
    "y_train = train_df.specialty\n",
    "\n",
    "X_val =  val_df.transcription.to_numpy()\n",
    "y_val = val_df.specialty\n",
    "\n",
    "X_test = test_df.transcription.to_numpy()\n",
    "y_test = test_df.specialty"
   ]
  },
  {
   "cell_type": "code",
   "execution_count": 16,
   "id": "3e69b107-5a15-4f31-a8c3-028ef9d8c37f",
   "metadata": {},
   "outputs": [],
   "source": [
    "# Encode all our labels\n",
    "y_train = label_encoder.encode(y_train)\n",
    "\n",
    "y_val = label_encoder.encode(y_val)\n",
    "\n",
    "y_test = label_encoder.encode(y_test)"
   ]
  },
  {
   "cell_type": "code",
   "execution_count": 21,
   "id": "b727bcd7-b5fa-4b63-9112-eb71cd0eb0fe",
   "metadata": {},
   "outputs": [],
   "source": [
    "def set_seeds(seed=42):\n",
    "    \"\"\"Set seeds for reproducibility\"\"\"\n",
    "    np.random.seed(seed)\n",
    "    random.seed(seed)"
   ]
  },
  {
   "cell_type": "code",
   "execution_count": 22,
   "id": "2b8fee1d-8167-4db4-840b-64f6c125fe85",
   "metadata": {},
   "outputs": [
    {
     "name": "stdout",
     "output_type": "stream",
     "text": [
      "<LabelEncoder(num_classes=40)>\n"
     ]
    }
   ],
   "source": [
    "print(label_encoder)"
   ]
  },
  {
   "cell_type": "code",
   "execution_count": 23,
   "id": "6430f165-78e4-4952-85c5-c7e43113a8fc",
   "metadata": {},
   "outputs": [
    {
     "name": "stdout",
     "output_type": "stream",
     "text": [
      "['allergy / immunology', 'autopsy', 'bariatrics', 'cardiovascular / pulmonary', 'chiropractic', 'consult history phy', 'cosmetic / plastic surgery', 'dentistry', 'dermatology', 'diets nutritions', 'discharge summary', 'emergency room reports', 'endocrinology', 'ent otolaryngology', 'gastroenterology', 'general medicine', 'hematology oncology', 'hospice palliative care', 'ime qme work comp etc', 'lab medicine pathology', 'letters', 'nephrology', 'neurology', 'neurosurgery', 'obstetrics / gynecology', 'office notes', 'ophthalmology', 'orthopedic', 'pain management', 'pediatrics neonatal', 'physical medicine rehab', 'podiatry', 'psychiatry / psychology', 'radiology', 'rheumatology', 'sleep medicine', 'soap / chart / progress notes', 'speech language', 'surgery', 'urology']\n"
     ]
    }
   ],
   "source": [
    "print(label_encoder.classes)"
   ]
  },
  {
   "cell_type": "code",
   "execution_count": 24,
   "id": "fc840cf1-5318-435c-bea8-b3dc2ee9f90d",
   "metadata": {},
   "outputs": [
    {
     "name": "stdout",
     "output_type": "stream",
     "text": [
      "(745,)\n",
      "[21 27 15 30 24]\n"
     ]
    }
   ],
   "source": [
    "# Let's generate  random prediction on the test set to see the performance\n",
    "y_pred = np.random.randint(low=0, high=len(label_encoder), size=len(y_test))\n",
    "print(y_pred.shape)\n",
    "print(y_pred[:5])"
   ]
  },
  {
   "cell_type": "code",
   "execution_count": 25,
   "id": "6fd223f0-3c5d-44b0-b7e4-137b5ec94c80",
   "metadata": {},
   "outputs": [],
   "source": [
    "from sklearn.metrics import precision_recall_fscore_support"
   ]
  },
  {
   "cell_type": "code",
   "execution_count": 26,
   "id": "111e3539-8da1-4d50-b44d-93a62e900d8e",
   "metadata": {},
   "outputs": [
    {
     "name": "stdout",
     "output_type": "stream",
     "text": [
      "{\n",
      "  \"precision\": 0.0794474539311379,\n",
      "  \"recal\": 0.03758389261744966,\n",
      "  \"f1\": 0.04266968953802068\n",
      "}\n"
     ]
    }
   ],
   "source": [
    "# Evaluate the random prediction\n",
    "metrics = precision_recall_fscore_support(y_test, y_pred, average=\"weighted\")\n",
    "performance = {\"precision\": metrics[0], \"recal\": metrics[1], \"f1\": metrics[2]}\n",
    "print(json.dumps(performance, indent=2))"
   ]
  },
  {
   "cell_type": "code",
   "execution_count": 28,
   "id": "49752a7d-3a33-4d89-a99f-84f818a12925",
   "metadata": {},
   "outputs": [
    {
     "data": {
      "text/html": [
       "Finishing last run (ID:3u0gocku) before initializing another..."
      ],
      "text/plain": [
       "<IPython.core.display.HTML object>"
      ]
     },
     "metadata": {},
     "output_type": "display_data"
    },
    {
     "data": {
      "text/html": [
       "Waiting for W&B process to finish... <strong style=\"color:green\">(success).</strong>"
      ],
      "text/plain": [
       "<IPython.core.display.HTML object>"
      ]
     },
     "metadata": {},
     "output_type": "display_data"
    },
    {
     "data": {
      "application/vnd.jupyter.widget-view+json": {
       "model_id": "3dff9288dbeb4bb28be2d92a25e8112b",
       "version_major": 2,
       "version_minor": 0
      },
      "text/plain": [
       "VBox(children=(Label(value='0.001 MB of 0.001 MB uploaded (0.000 MB deduped)\\r'), FloatProgress(value=1.0, max…"
      ]
     },
     "metadata": {},
     "output_type": "display_data"
    },
    {
     "data": {
      "text/html": [
       "Synced <strong style=\"color:#cdcd00\">magic-river-5</strong>: <a href=\"https://wandb.ai/alokpadhi/Medical-Transcription/runs/3u0gocku\" target=\"_blank\">https://wandb.ai/alokpadhi/Medical-Transcription/runs/3u0gocku</a><br/>Synced 4 W&B file(s), 0 media file(s), 0 artifact file(s) and 0 other file(s)"
      ],
      "text/plain": [
       "<IPython.core.display.HTML object>"
      ]
     },
     "metadata": {},
     "output_type": "display_data"
    },
    {
     "data": {
      "text/html": [
       "Find logs at: <code>./wandb/run-20220621_135516-3u0gocku/logs</code>"
      ],
      "text/plain": [
       "<IPython.core.display.HTML object>"
      ]
     },
     "metadata": {},
     "output_type": "display_data"
    },
    {
     "data": {
      "text/html": [
       "Successfully finished last run (ID:3u0gocku). Initializing new run:<br/>"
      ],
      "text/plain": [
       "<IPython.core.display.HTML object>"
      ]
     },
     "metadata": {},
     "output_type": "display_data"
    },
    {
     "data": {
      "text/html": [
       "Tracking run with wandb version 0.12.18"
      ],
      "text/plain": [
       "<IPython.core.display.HTML object>"
      ]
     },
     "metadata": {},
     "output_type": "display_data"
    },
    {
     "data": {
      "text/html": [
       "Run data is saved locally in <code>/notebooks/project/medical-transcriptions/notebooks/modeling/wandb/run-20220621_135526-gcnc8jm5</code>"
      ],
      "text/plain": [
       "<IPython.core.display.HTML object>"
      ]
     },
     "metadata": {},
     "output_type": "display_data"
    },
    {
     "data": {
      "text/html": [
       "Syncing run <strong><a href=\"https://wandb.ai/alokpadhi/Medical-Transcription/runs/gcnc8jm5\" target=\"_blank\">balmy-disco-6</a></strong> to <a href=\"https://wandb.ai/alokpadhi/Medical-Transcription\" target=\"_blank\">Weights & Biases</a> (<a href=\"https://wandb.me/run\" target=\"_blank\">docs</a>)<br/>"
      ],
      "text/plain": [
       "<IPython.core.display.HTML object>"
      ]
     },
     "metadata": {},
     "output_type": "display_data"
    }
   ],
   "source": [
    "random_model_run = wandb.init(project=\"Medical-Transcription\")\n",
    "random_model_run.log({\"precision\": performance[\"precision\"], \"recall\": performance[\"recal\"], \"f1-score\": performance[\"f1\"]})"
   ]
  },
  {
   "cell_type": "markdown",
   "id": "91c78d29-5b13-4e67-95ad-41795e17e9d2",
   "metadata": {},
   "source": [
    "### Rule Based Model"
   ]
  },
  {
   "cell_type": "code",
   "execution_count": 29,
   "id": "ff3b0777-ce54-4b66-8de9-5d4c201b7a1e",
   "metadata": {},
   "outputs": [],
   "source": [
    "set_seeds()"
   ]
  },
  {
   "cell_type": "code",
   "execution_count": 38,
   "id": "843128ba-37e5-4338-b588-c6d38b447db1",
   "metadata": {},
   "outputs": [],
   "source": [
    "from collections import Counter"
   ]
  },
  {
   "cell_type": "code",
   "execution_count": 43,
   "id": "0507deb7-b7d7-4b5d-94a9-1251b18d35a3",
   "metadata": {},
   "outputs": [],
   "source": [
    "# Let's find out most frequent 10-20 words in each class\n",
    "target_word_dist = {}\n",
    "for y_ in label_encoder.classes:\n",
    "    filter_target_sentences = train_df.loc[train_df.specialty == y_, 'transcription'].values\n",
    "    combine_words = \" \".join(filter_target_sentences).split(' ')\n",
    "    word_counter = Counter(combine_words).most_common(15)\n",
    "    target_word_dist[y_] = [wc[0] for wc in word_counter]"
   ]
  },
  {
   "cell_type": "code",
   "execution_count": 44,
   "id": "cf25fb0d-9c09-4d90-af3d-8baf1f568b8a",
   "metadata": {},
   "outputs": [
    {
     "data": {
      "text/plain": [
       "{'allergy / immunology': ['history',\n",
       "  'allergies',\n",
       "  'patient',\n",
       "  'noted',\n",
       "  'medical',\n",
       "  'allergy',\n",
       "  'treatment',\n",
       "  'allergic',\n",
       "  'disease',\n",
       "  'bilaterally',\n",
       "  'asthma',\n",
       "  'reaction',\n",
       "  'food',\n",
       "  'also',\n",
       "  'masses'],\n",
       " 'autopsy': ['right',\n",
       "  'left',\n",
       "  'inch',\n",
       "  'neck',\n",
       "  '1',\n",
       "  'wound',\n",
       "  'evidence',\n",
       "  'anterior',\n",
       "  'inches',\n",
       "  'normal',\n",
       "  'body',\n",
       "  'one',\n",
       "  'length',\n",
       "  '2',\n",
       "  'superficial'],\n",
       " 'bariatrics': ['patient',\n",
       "  'history',\n",
       "  'also',\n",
       "  'surgery',\n",
       "  'weight',\n",
       "  'gastric',\n",
       "  'obesity',\n",
       "  'pain',\n",
       "  'bypass',\n",
       "  'procedure',\n",
       "  'pounds',\n",
       "  'abdomen',\n",
       "  'loss',\n",
       "  'past',\n",
       "  'placed'],\n",
       " 'cardiovascular / pulmonary': ['left',\n",
       "  'patient',\n",
       "  'right',\n",
       "  'artery',\n",
       "  '2',\n",
       "  '1',\n",
       "  'coronary',\n",
       "  'normal',\n",
       "  'history',\n",
       "  '3',\n",
       "  'procedure',\n",
       "  '4',\n",
       "  'chest',\n",
       "  '5',\n",
       "  'heart'],\n",
       " 'chiropractic': ['pain',\n",
       "  'patient',\n",
       "  'right',\n",
       "  'back',\n",
       "  'left',\n",
       "  'dr',\n",
       "  'injury',\n",
       "  'work',\n",
       "  'time',\n",
       "  'normal',\n",
       "  'lower',\n",
       "  'history',\n",
       "  'spine',\n",
       "  'upper',\n",
       "  'complaints'],\n",
       " 'consult history phy': ['patient',\n",
       "  'history',\n",
       "  'normal',\n",
       "  'pain',\n",
       "  '2',\n",
       "  'right',\n",
       "  '1',\n",
       "  'past',\n",
       "  'well',\n",
       "  'mg',\n",
       "  'also',\n",
       "  'left',\n",
       "  '3',\n",
       "  'time',\n",
       "  'year'],\n",
       " 'cosmetic / plastic surgery': ['patient',\n",
       "  'breast',\n",
       "  '0',\n",
       "  'procedure',\n",
       "  'skin',\n",
       "  'left',\n",
       "  'right',\n",
       "  'placed',\n",
       "  'incision',\n",
       "  'area',\n",
       "  '2',\n",
       "  'lateral',\n",
       "  '3',\n",
       "  'used',\n",
       "  'room'],\n",
       " 'dentistry': ['patient',\n",
       "  'tooth',\n",
       "  'teeth',\n",
       "  'left',\n",
       "  'placed',\n",
       "  'procedure',\n",
       "  'dental',\n",
       "  'pain',\n",
       "  'removed',\n",
       "  '1',\n",
       "  'room',\n",
       "  '2',\n",
       "  'anesthesia',\n",
       "  'normal',\n",
       "  '3'],\n",
       " 'dermatology': ['1',\n",
       "  'cm',\n",
       "  'patient',\n",
       "  '5',\n",
       "  'skin',\n",
       "  'left',\n",
       "  '0',\n",
       "  '2',\n",
       "  'x',\n",
       "  'procedure',\n",
       "  'area',\n",
       "  'right',\n",
       "  'cheek',\n",
       "  'history',\n",
       "  '3'],\n",
       " 'diets nutritions': ['weight',\n",
       "  'patient',\n",
       "  'meal',\n",
       "  'carbohydrate',\n",
       "  'plan',\n",
       "  'day',\n",
       "  'blood',\n",
       "  'calories',\n",
       "  'pounds',\n",
       "  '2',\n",
       "  'food',\n",
       "  'two',\n",
       "  'snack',\n",
       "  'well',\n",
       "  'diabetes'],\n",
       " 'discharge summary': ['patient',\n",
       "  'discharge',\n",
       "  'mg',\n",
       "  '2',\n",
       "  '1',\n",
       "  'history',\n",
       "  '3',\n",
       "  'p',\n",
       "  'hospital',\n",
       "  'right',\n",
       "  'pain',\n",
       "  '4',\n",
       "  '5',\n",
       "  'dr',\n",
       "  'day'],\n",
       " 'emergency room reports': ['patient',\n",
       "  'history',\n",
       "  'normal',\n",
       "  'pain',\n",
       "  '1',\n",
       "  'well',\n",
       "  '2',\n",
       "  'past',\n",
       "  'blood',\n",
       "  'denies',\n",
       "  'emergency',\n",
       "  'without',\n",
       "  'left',\n",
       "  'room',\n",
       "  'time'],\n",
       " 'endocrinology': ['thyroid',\n",
       "  'patient',\n",
       "  'left',\n",
       "  'history',\n",
       "  'right',\n",
       "  '0',\n",
       "  'superior',\n",
       "  'placed',\n",
       "  'well',\n",
       "  'nerve',\n",
       "  '1',\n",
       "  'gland',\n",
       "  'inferior',\n",
       "  'identified',\n",
       "  'procedure'],\n",
       " 'ent otolaryngology': ['patient',\n",
       "  'nasal',\n",
       "  'left',\n",
       "  'right',\n",
       "  'placed',\n",
       "  'ear',\n",
       "  'procedure',\n",
       "  '1',\n",
       "  'anesthesia',\n",
       "  'removed',\n",
       "  '2',\n",
       "  'room',\n",
       "  'tube',\n",
       "  'general',\n",
       "  'history'],\n",
       " 'gastroenterology': ['patient',\n",
       "  'procedure',\n",
       "  'normal',\n",
       "  '2',\n",
       "  'history',\n",
       "  '1',\n",
       "  'placed',\n",
       "  '3',\n",
       "  'abdomen',\n",
       "  'well',\n",
       "  'colon',\n",
       "  'right',\n",
       "  'abdominal',\n",
       "  '0',\n",
       "  'gallbladder'],\n",
       " 'general medicine': ['patient',\n",
       "  'history',\n",
       "  'normal',\n",
       "  '2',\n",
       "  'pain',\n",
       "  '1',\n",
       "  'negative',\n",
       "  'mg',\n",
       "  '3',\n",
       "  'blood',\n",
       "  'without',\n",
       "  '5',\n",
       "  '4',\n",
       "  'also',\n",
       "  'past'],\n",
       " 'hematology oncology': ['patient',\n",
       "  'history',\n",
       "  'left',\n",
       "  'right',\n",
       "  '1',\n",
       "  '2',\n",
       "  '3',\n",
       "  'mg',\n",
       "  '5',\n",
       "  'well',\n",
       "  'breast',\n",
       "  'time',\n",
       "  '4',\n",
       "  'noted',\n",
       "  'normal'],\n",
       " 'hospice palliative care': ['patient',\n",
       "  'mg',\n",
       "  'family',\n",
       "  'history',\n",
       "  'care',\n",
       "  'well',\n",
       "  'daughter',\n",
       "  'approximately',\n",
       "  'pain',\n",
       "  'day',\n",
       "  'daily',\n",
       "  'hours',\n",
       "  'ago',\n",
       "  'would',\n",
       "  '5'],\n",
       " 'ime qme work comp etc': ['patient',\n",
       "  'right',\n",
       "  'pain',\n",
       "  'back',\n",
       "  'injury',\n",
       "  'left',\n",
       "  'dr',\n",
       "  'knee',\n",
       "  'also',\n",
       "  'examination',\n",
       "  'history',\n",
       "  'work',\n",
       "  'lower',\n",
       "  'lumbar',\n",
       "  'medical'],\n",
       " 'lab medicine pathology': ['lobe',\n",
       "  'right',\n",
       "  'cm',\n",
       "  'tumor',\n",
       "  'x',\n",
       "  'upper',\n",
       "  'lymph',\n",
       "  '0',\n",
       "  'lung',\n",
       "  '1',\n",
       "  '2',\n",
       "  'carcinoma',\n",
       "  'invasion',\n",
       "  '3',\n",
       "  '7'],\n",
       " 'letters': ['patient',\n",
       "  'normal',\n",
       "  'abc',\n",
       "  'history',\n",
       "  'pain',\n",
       "  'time',\n",
       "  'back',\n",
       "  'right',\n",
       "  'examination',\n",
       "  'well',\n",
       "  'without',\n",
       "  'would',\n",
       "  'xyz',\n",
       "  'also',\n",
       "  'day'],\n",
       " 'nephrology': ['patient',\n",
       "  'renal',\n",
       "  'right',\n",
       "  '2',\n",
       "  '1',\n",
       "  'history',\n",
       "  'kidney',\n",
       "  'vein',\n",
       "  'left',\n",
       "  '4',\n",
       "  '3',\n",
       "  '5',\n",
       "  'placed',\n",
       "  'blood',\n",
       "  'procedure'],\n",
       " 'neurology': ['right',\n",
       "  'left',\n",
       "  'patient',\n",
       "  'normal',\n",
       "  'history',\n",
       "  '2',\n",
       "  'exam',\n",
       "  '1',\n",
       "  'time',\n",
       "  'unremarkable',\n",
       "  '3',\n",
       "  '5',\n",
       "  'pain',\n",
       "  'also',\n",
       "  'mri'],\n",
       " 'neurosurgery': ['patient',\n",
       "  'c5',\n",
       "  'placed',\n",
       "  'c6',\n",
       "  'procedure',\n",
       "  'using',\n",
       "  'right',\n",
       "  'c4',\n",
       "  '0',\n",
       "  'cervical',\n",
       "  'well',\n",
       "  'left',\n",
       "  '2',\n",
       "  'bone',\n",
       "  'l5'],\n",
       " 'obstetrics / gynecology': ['patient',\n",
       "  'placed',\n",
       "  '0',\n",
       "  '2',\n",
       "  'uterus',\n",
       "  '1',\n",
       "  'incision',\n",
       "  'right',\n",
       "  'normal',\n",
       "  'procedure',\n",
       "  'noted',\n",
       "  '3',\n",
       "  'left',\n",
       "  'cm',\n",
       "  'removed'],\n",
       " 'office notes': ['negative',\n",
       "  'normal',\n",
       "  'without',\n",
       "  'patient',\n",
       "  'history',\n",
       "  'pain',\n",
       "  'clear',\n",
       "  'tenderness',\n",
       "  'intact',\n",
       "  'noted',\n",
       "  'edema',\n",
       "  'bilaterally',\n",
       "  'good',\n",
       "  'mg',\n",
       "  'neck'],\n",
       " 'ophthalmology': ['eye',\n",
       "  'patient',\n",
       "  '0',\n",
       "  'right',\n",
       "  'placed',\n",
       "  'procedure',\n",
       "  'used',\n",
       "  'anterior',\n",
       "  'chamber',\n",
       "  'lens',\n",
       "  'lid',\n",
       "  '2',\n",
       "  'removed',\n",
       "  'incision',\n",
       "  'anesthesia'],\n",
       " 'orthopedic': ['patient',\n",
       "  'right',\n",
       "  'left',\n",
       "  'placed',\n",
       "  'pain',\n",
       "  '0',\n",
       "  'well',\n",
       "  '2',\n",
       "  '1',\n",
       "  'procedure',\n",
       "  'used',\n",
       "  '4',\n",
       "  'using',\n",
       "  'incision',\n",
       "  'anesthesia'],\n",
       " 'pain management': ['patient',\n",
       "  'procedure',\n",
       "  'needle',\n",
       "  '1',\n",
       "  'placed',\n",
       "  'pain',\n",
       "  'injected',\n",
       "  'left',\n",
       "  'injection',\n",
       "  '5',\n",
       "  'epidural',\n",
       "  'skin',\n",
       "  'used',\n",
       "  'complications',\n",
       "  'sterile'],\n",
       " 'pediatrics neonatal': ['history',\n",
       "  'patient',\n",
       "  'well',\n",
       "  'normal',\n",
       "  '1',\n",
       "  '2',\n",
       "  'old',\n",
       "  'without',\n",
       "  'clear',\n",
       "  'mom',\n",
       "  'family',\n",
       "  '3',\n",
       "  'year',\n",
       "  'child',\n",
       "  'also'],\n",
       " 'physical medicine rehab': ['patient',\n",
       "  'right',\n",
       "  'left',\n",
       "  '1',\n",
       "  'pain',\n",
       "  'motor',\n",
       "  '2',\n",
       "  'history',\n",
       "  'states',\n",
       "  'lower',\n",
       "  'units',\n",
       "  '3',\n",
       "  'normal',\n",
       "  'home',\n",
       "  'decreased'],\n",
       " 'podiatry': ['foot',\n",
       "  'patient',\n",
       "  'left',\n",
       "  'right',\n",
       "  'tendon',\n",
       "  '0',\n",
       "  '1',\n",
       "  'used',\n",
       "  'incision',\n",
       "  'procedure',\n",
       "  'proximal',\n",
       "  'medial',\n",
       "  'anesthesia',\n",
       "  'lateral',\n",
       "  'noted'],\n",
       " 'psychiatry / psychology': ['patient',\n",
       "  'history',\n",
       "  'mg',\n",
       "  'mother',\n",
       "  'p',\n",
       "  'years',\n",
       "  'axis',\n",
       "  'past',\n",
       "  'also',\n",
       "  'time',\n",
       "  'year',\n",
       "  'reported',\n",
       "  'medical',\n",
       "  'family',\n",
       "  'reports'],\n",
       " 'radiology': ['left',\n",
       "  'normal',\n",
       "  'right',\n",
       "  '2',\n",
       "  '1',\n",
       "  'exam',\n",
       "  '3',\n",
       "  'patient',\n",
       "  'unremarkable',\n",
       "  'mild',\n",
       "  '4',\n",
       "  '5',\n",
       "  'seen',\n",
       "  'findings',\n",
       "  'without'],\n",
       " 'rheumatology': ['history',\n",
       "  'patient',\n",
       "  'mg',\n",
       "  'reveals',\n",
       "  'day',\n",
       "  'joints',\n",
       "  'left',\n",
       "  'pain',\n",
       "  'denies',\n",
       "  '1',\n",
       "  'normal',\n",
       "  'examination',\n",
       "  'abnormalities',\n",
       "  'well',\n",
       "  '5'],\n",
       " 'sleep medicine': ['sleep',\n",
       "  'patient',\n",
       "  'history',\n",
       "  'stage',\n",
       "  'apnea',\n",
       "  'performed',\n",
       "  '2',\n",
       "  'hours',\n",
       "  'time',\n",
       "  '1',\n",
       "  'per',\n",
       "  'study',\n",
       "  'activity',\n",
       "  '3',\n",
       "  'clinical'],\n",
       " 'soap / chart / progress notes': ['patient',\n",
       "  '2',\n",
       "  'mg',\n",
       "  'history',\n",
       "  '1',\n",
       "  'pain',\n",
       "  'well',\n",
       "  '3',\n",
       "  '5',\n",
       "  'today',\n",
       "  'blood',\n",
       "  'time',\n",
       "  'right',\n",
       "  'left',\n",
       "  'also'],\n",
       " 'speech language': ['patient',\n",
       "  'therapy',\n",
       "  'speech',\n",
       "  'able',\n",
       "  'swallow',\n",
       "  'evaluation',\n",
       "  'skilled',\n",
       "  'passy',\n",
       "  'muir',\n",
       "  'weeks',\n",
       "  'completed',\n",
       "  'also',\n",
       "  'improve',\n",
       "  'safety',\n",
       "  'valve'],\n",
       " 'surgery': ['patient',\n",
       "  'right',\n",
       "  'procedure',\n",
       "  'left',\n",
       "  'placed',\n",
       "  '0',\n",
       "  '2',\n",
       "  '1',\n",
       "  'well',\n",
       "  'anesthesia',\n",
       "  'using',\n",
       "  'incision',\n",
       "  'removed',\n",
       "  '3',\n",
       "  'used'],\n",
       " 'urology': ['patient',\n",
       "  '0',\n",
       "  'left',\n",
       "  'right',\n",
       "  'procedure',\n",
       "  'placed',\n",
       "  'bladder',\n",
       "  '2',\n",
       "  '1',\n",
       "  'history',\n",
       "  'using',\n",
       "  '4',\n",
       "  '3',\n",
       "  'well',\n",
       "  'prostate']}"
      ]
     },
     "execution_count": 44,
     "metadata": {},
     "output_type": "execute_result"
    }
   ],
   "source": [
    "# Check the top 15 words in each class\n",
    "target_word_dist"
   ]
  },
  {
   "cell_type": "code",
   "execution_count": 54,
   "id": "03d3c19c-1cc4-4af8-a9f6-78697c74af15",
   "metadata": {},
   "outputs": [],
   "source": [
    "import operator"
   ]
  },
  {
   "cell_type": "code",
   "execution_count": 61,
   "id": "3a1c5c40-e164-49b5-863d-1ae1c78d36ad",
   "metadata": {},
   "outputs": [],
   "source": [
    "# Match the input string words with each class word whichever gives the highest matching assign that class\n",
    "def match_words(input_str):\n",
    "    target_match_count = {}\n",
    "    input_str_words = input_str.split(' ')\n",
    "    for target_ in target_word_dist.keys():\n",
    "        target_words = [wc for wc in target_word_dist[target_]]\n",
    "        match_count = 0\n",
    "        for word in input_str_words:\n",
    "            if word in target_words:\n",
    "                match_count += 1\n",
    "        target_match_count[target_] = match_count\n",
    "    y_pred = max(target_match_count.items(), key=operator.itemgetter(1))[0]\n",
    "    return y_pred"
   ]
  },
  {
   "cell_type": "code",
   "execution_count": 72,
   "id": "97e678ba-7f04-44a7-994c-6c9878177bc6",
   "metadata": {},
   "outputs": [],
   "source": [
    "y_pred = [match_words(input_str) for input_str in X_test]"
   ]
  },
  {
   "cell_type": "code",
   "execution_count": 77,
   "id": "5f99347c-4245-45b7-acbe-a0e017d1238a",
   "metadata": {},
   "outputs": [],
   "source": [
    "y_pred = label_encoder.encode(y_pred)"
   ]
  },
  {
   "cell_type": "code",
   "execution_count": 78,
   "id": "82abed9e-b0f6-4c66-961f-b5914e276edf",
   "metadata": {},
   "outputs": [
    {
     "data": {
      "text/plain": [
       "(745,)"
      ]
     },
     "execution_count": 78,
     "metadata": {},
     "output_type": "execute_result"
    }
   ],
   "source": [
    "y_pred.shape"
   ]
  },
  {
   "cell_type": "code",
   "execution_count": 79,
   "id": "92a92377-3ece-4f03-8b8b-137085be75d9",
   "metadata": {},
   "outputs": [
    {
     "name": "stdout",
     "output_type": "stream",
     "text": [
      "{\n",
      "  \"precision\": 0.3181317497805004,\n",
      "  \"recal\": 0.24563758389261744,\n",
      "  \"f1\": 0.245658271093684\n",
      "}\n"
     ]
    }
   ],
   "source": [
    "metrics = precision_recall_fscore_support(y_test, y_pred, average=\"weighted\")\n",
    "performance = {\"precision\": metrics[0], \"recal\": metrics[1], \"f1\": metrics[2]}\n",
    "print(json.dumps(performance, indent=2))"
   ]
  },
  {
   "cell_type": "markdown",
   "id": "2fbe8556-938b-4228-940d-5c61d6f9aecf",
   "metadata": {},
   "source": [
    "As we can see above we have significantly improved our metrics than our baseline of random predictions."
   ]
  },
  {
   "cell_type": "code",
   "execution_count": 80,
   "id": "b4d2898d-2b58-4edd-89ad-e4c1fbaa6ece",
   "metadata": {},
   "outputs": [
    {
     "data": {
      "text/html": [
       "Finishing last run (ID:gcnc8jm5) before initializing another..."
      ],
      "text/plain": [
       "<IPython.core.display.HTML object>"
      ]
     },
     "metadata": {},
     "output_type": "display_data"
    },
    {
     "data": {
      "text/html": [
       "Waiting for W&B process to finish... <strong style=\"color:green\">(success).</strong>"
      ],
      "text/plain": [
       "<IPython.core.display.HTML object>"
      ]
     },
     "metadata": {},
     "output_type": "display_data"
    },
    {
     "data": {
      "application/vnd.jupyter.widget-view+json": {
       "model_id": "919056033b5d483f8fd19b0cb8fb6a37",
       "version_major": 2,
       "version_minor": 0
      },
      "text/plain": [
       "VBox(children=(Label(value='0.001 MB of 0.001 MB uploaded (0.000 MB deduped)\\r'), FloatProgress(value=1.0, max…"
      ]
     },
     "metadata": {},
     "output_type": "display_data"
    },
    {
     "data": {
      "text/html": [
       "<style>\n",
       "    table.wandb td:nth-child(1) { padding: 0 10px; text-align: left ; width: auto;} td:nth-child(2) {text-align: left ; width: 100%}\n",
       "    .wandb-row { display: flex; flex-direction: row; flex-wrap: wrap; justify-content: flex-start; width: 100% }\n",
       "    .wandb-col { display: flex; flex-direction: column; flex-basis: 100%; flex: 1; padding: 10px; }\n",
       "    </style>\n",
       "<div class=\"wandb-row\"><div class=\"wandb-col\"><h3>Run history:</h3><br/><table class=\"wandb\"><tr><td>f1-score</td><td>▁</td></tr><tr><td>precision</td><td>▁</td></tr><tr><td>recall</td><td>▁</td></tr></table><br/></div><div class=\"wandb-col\"><h3>Run summary:</h3><br/><table class=\"wandb\"><tr><td>f1-score</td><td>0.04267</td></tr><tr><td>precision</td><td>0.07945</td></tr><tr><td>recall</td><td>0.03758</td></tr></table><br/></div></div>"
      ],
      "text/plain": [
       "<IPython.core.display.HTML object>"
      ]
     },
     "metadata": {},
     "output_type": "display_data"
    },
    {
     "data": {
      "text/html": [
       "Synced <strong style=\"color:#cdcd00\">balmy-disco-6</strong>: <a href=\"https://wandb.ai/alokpadhi/Medical-Transcription/runs/gcnc8jm5\" target=\"_blank\">https://wandb.ai/alokpadhi/Medical-Transcription/runs/gcnc8jm5</a><br/>Synced 5 W&B file(s), 0 media file(s), 0 artifact file(s) and 0 other file(s)"
      ],
      "text/plain": [
       "<IPython.core.display.HTML object>"
      ]
     },
     "metadata": {},
     "output_type": "display_data"
    },
    {
     "data": {
      "text/html": [
       "Find logs at: <code>./wandb/run-20220621_135526-gcnc8jm5/logs</code>"
      ],
      "text/plain": [
       "<IPython.core.display.HTML object>"
      ]
     },
     "metadata": {},
     "output_type": "display_data"
    },
    {
     "data": {
      "text/html": [
       "Successfully finished last run (ID:gcnc8jm5). Initializing new run:<br/>"
      ],
      "text/plain": [
       "<IPython.core.display.HTML object>"
      ]
     },
     "metadata": {},
     "output_type": "display_data"
    },
    {
     "data": {
      "text/html": [
       "Tracking run with wandb version 0.12.18"
      ],
      "text/plain": [
       "<IPython.core.display.HTML object>"
      ]
     },
     "metadata": {},
     "output_type": "display_data"
    },
    {
     "data": {
      "text/html": [
       "Run data is saved locally in <code>/notebooks/project/medical-transcriptions/notebooks/modeling/wandb/run-20220621_145526-1rzujig1</code>"
      ],
      "text/plain": [
       "<IPython.core.display.HTML object>"
      ]
     },
     "metadata": {},
     "output_type": "display_data"
    },
    {
     "data": {
      "text/html": [
       "Syncing run <strong><a href=\"https://wandb.ai/alokpadhi/Medical-Transcription/runs/1rzujig1\" target=\"_blank\">feasible-frost-7</a></strong> to <a href=\"https://wandb.ai/alokpadhi/Medical-Transcription\" target=\"_blank\">Weights & Biases</a> (<a href=\"https://wandb.me/run\" target=\"_blank\">docs</a>)<br/>"
      ],
      "text/plain": [
       "<IPython.core.display.HTML object>"
      ]
     },
     "metadata": {},
     "output_type": "display_data"
    }
   ],
   "source": [
    "rulebased_model_run = wandb.init(project=\"Medical-Transcription\")\n",
    "wandb.run.name = \"Rule Based Model\"\n",
    "rulebased_model_run.log({\"precision\": performance[\"precision\"], \"recall\": performance[\"recal\"], \"f1-score\": performance[\"f1\"]})"
   ]
  },
  {
   "attachments": {
    "f7f9551f-78e9-4684-a019-26fb15b4cde5.png": {
     "image/png": "[encoded data removed]"
    }
   },
   "cell_type": "markdown",
   "id": "e0a48bef-6e68-42c3-85ee-ea2667f8b0b5",
   "metadata": {},
   "source": [
    "![image.png](attachment:f7f9551f-78e9-4684-a019-26fb15b4cde5.png)"
   ]
  },
  {
   "cell_type": "code",
   "execution_count": null,
   "id": "e1e45c57-eb50-432e-9453-5578f17dc39d",
   "metadata": {},
   "outputs": [],
   "source": []
  }
 ],
 "metadata": {
  "kernelspec": {
   "display_name": "Python 3 (ipykernel)",
   "language": "python",
   "name": "python3"
  },
  "language_info": {
   "codemirror_mode": {
    "name": "ipython",
    "version": 3
   },
   "file_extension": ".py",
   "mimetype": "text/x-python",
   "name": "python",
   "nbconvert_exporter": "python",
   "pygments_lexer": "ipython3",
   "version": "3.8.12"
  }
 },
 "nbformat": 4,
 "nbformat_minor": 5
}
