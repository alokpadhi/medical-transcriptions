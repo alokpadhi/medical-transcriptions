{
 "cells": [
  {
   "cell_type": "code",
   "execution_count": 1,
   "id": "b88c67ce-7470-4b78-a069-02634dff5f28",
   "metadata": {},
   "outputs": [
    {
     "name": "stdout",
     "output_type": "stream",
     "text": [
      "Looking in indexes: https://pypi.org/simple, https://pypi.ngc.nvidia.com\n",
      "Requirement already satisfied: nltk==3.7 in /opt/conda/lib/python3.8/site-packages (3.7)\n",
      "Requirement already satisfied: regex>=2021.8.3 in /opt/conda/lib/python3.8/site-packages (from nltk==3.7) (2022.1.18)\n",
      "Requirement already satisfied: click in /opt/conda/lib/python3.8/site-packages (from nltk==3.7) (8.0.3)\n",
      "Requirement already satisfied: joblib in /opt/conda/lib/python3.8/site-packages (from nltk==3.7) (1.1.0)\n",
      "Requirement already satisfied: tqdm in /opt/conda/lib/python3.8/site-packages (from nltk==3.7) (4.62.3)\n",
      "\u001b[33mWARNING: Running pip as the 'root' user can result in broken permissions and conflicting behaviour with the system package manager. It is recommended to use a virtual environment instead: https://pip.pypa.io/warnings/venv\u001b[0m\n"
     ]
    }
   ],
   "source": [
    "!pip install nltk==3.7"
   ]
  },
  {
   "cell_type": "code",
   "execution_count": 2,
   "id": "6d2c8a96-a489-4992-b4f0-8c27183443f7",
   "metadata": {},
   "outputs": [
    {
     "name": "stdout",
     "output_type": "stream",
     "text": [
      "Looking in indexes: https://pypi.org/simple, https://pypi.ngc.nvidia.com\n",
      "Collecting seaborn\n",
      "  Downloading seaborn-0.11.2-py3-none-any.whl (292 kB)\n",
      "\u001b[K     |████████████████████████████████| 292 kB 24.0 MB/s eta 0:00:01\n",
      "\u001b[?25hRequirement already satisfied: scipy>=1.0 in /opt/conda/lib/python3.8/site-packages (from seaborn) (1.6.3)\n",
      "Requirement already satisfied: numpy>=1.15 in /opt/conda/lib/python3.8/site-packages (from seaborn) (1.22.2)\n",
      "Requirement already satisfied: pandas>=0.23 in /opt/conda/lib/python3.8/site-packages (from seaborn) (1.3.5)\n",
      "Requirement already satisfied: matplotlib>=2.2 in /opt/conda/lib/python3.8/site-packages (from seaborn) (3.5.1)\n",
      "Requirement already satisfied: cycler>=0.10 in /opt/conda/lib/python3.8/site-packages (from matplotlib>=2.2->seaborn) (0.11.0)\n",
      "Requirement already satisfied: pillow>=6.2.0 in /opt/conda/lib/python3.8/site-packages (from matplotlib>=2.2->seaborn) (9.0.0)\n",
      "Requirement already satisfied: python-dateutil>=2.7 in /opt/conda/lib/python3.8/site-packages (from matplotlib>=2.2->seaborn) (2.8.2)\n",
      "Requirement already satisfied: fonttools>=4.22.0 in /opt/conda/lib/python3.8/site-packages (from matplotlib>=2.2->seaborn) (4.29.1)\n",
      "Requirement already satisfied: kiwisolver>=1.0.1 in /opt/conda/lib/python3.8/site-packages (from matplotlib>=2.2->seaborn) (1.3.2)\n",
      "Requirement already satisfied: pyparsing>=2.2.1 in /opt/conda/lib/python3.8/site-packages (from matplotlib>=2.2->seaborn) (3.0.7)\n",
      "Requirement already satisfied: packaging>=20.0 in /opt/conda/lib/python3.8/site-packages (from matplotlib>=2.2->seaborn) (21.3)\n",
      "Requirement already satisfied: pytz>=2017.3 in /opt/conda/lib/python3.8/site-packages (from pandas>=0.23->seaborn) (2021.3)\n",
      "Requirement already satisfied: six>=1.5 in /opt/conda/lib/python3.8/site-packages (from python-dateutil>=2.7->matplotlib>=2.2->seaborn) (1.16.0)\n",
      "Installing collected packages: seaborn\n",
      "Successfully installed seaborn-0.11.2\n",
      "\u001b[33mWARNING: Running pip as the 'root' user can result in broken permissions and conflicting behaviour with the system package manager. It is recommended to use a virtual environment instead: https://pip.pypa.io/warnings/venv\u001b[0m\n",
      "Note: you may need to restart the kernel to use updated packages.\n"
     ]
    }
   ],
   "source": [
    "%pip install seaborn"
   ]
  },
  {
   "cell_type": "code",
   "execution_count": 3,
   "id": "530056aa-f74b-4f39-b156-56758ebc069f",
   "metadata": {},
   "outputs": [
    {
     "name": "stdout",
     "output_type": "stream",
     "text": [
      "Looking in indexes: https://pypi.org/simple, https://pypi.ngc.nvidia.com\n",
      "Collecting wandb\n",
      "  Downloading wandb-0.12.18-py2.py3-none-any.whl (1.8 MB)\n",
      "\u001b[K     |████████████████████████████████| 1.8 MB 24.3 MB/s eta 0:00:01\n",
      "\u001b[?25hRequirement already satisfied: psutil>=5.0.0 in /opt/conda/lib/python3.8/site-packages (from wandb) (5.9.0)\n",
      "Requirement already satisfied: requests<3,>=2.0.0 in /opt/conda/lib/python3.8/site-packages (from wandb) (2.26.0)\n",
      "Collecting pathtools\n",
      "  Downloading pathtools-0.1.2.tar.gz (11 kB)\n",
      "Requirement already satisfied: Click!=8.0.0,>=7.0 in /opt/conda/lib/python3.8/site-packages (from wandb) (8.0.3)\n",
      "Collecting shortuuid>=0.5.0\n",
      "  Downloading shortuuid-1.0.9-py3-none-any.whl (9.4 kB)\n",
      "Requirement already satisfied: PyYAML in /opt/conda/lib/python3.8/site-packages (from wandb) (5.4.1)\n",
      "Collecting promise<3,>=2.0\n",
      "  Downloading promise-2.3.tar.gz (19 kB)\n",
      "Collecting sentry-sdk>=1.0.0\n",
      "  Downloading sentry_sdk-1.5.12-py2.py3-none-any.whl (145 kB)\n",
      "\u001b[K     |████████████████████████████████| 145 kB 27.3 MB/s eta 0:00:01\n",
      "\u001b[?25hCollecting setproctitle\n",
      "  Downloading setproctitle-1.2.3-cp38-cp38-manylinux_2_5_x86_64.manylinux1_x86_64.manylinux_2_17_x86_64.manylinux2014_x86_64.whl (29 kB)\n",
      "Requirement already satisfied: setuptools in /opt/conda/lib/python3.8/site-packages (from wandb) (59.5.0)\n",
      "Requirement already satisfied: six>=1.13.0 in /opt/conda/lib/python3.8/site-packages (from wandb) (1.16.0)\n",
      "Collecting GitPython>=1.0.0\n",
      "  Downloading GitPython-3.1.27-py3-none-any.whl (181 kB)\n",
      "\u001b[K     |████████████████████████████████| 181 kB 32.0 MB/s eta 0:00:01\n",
      "\u001b[?25hCollecting docker-pycreds>=0.4.0\n",
      "  Downloading docker_pycreds-0.4.0-py2.py3-none-any.whl (9.0 kB)\n",
      "Requirement already satisfied: protobuf<4.0dev,>=3.12.0 in /opt/conda/lib/python3.8/site-packages (from wandb) (3.19.4)\n",
      "Collecting gitdb<5,>=4.0.1\n",
      "  Downloading gitdb-4.0.9-py3-none-any.whl (63 kB)\n",
      "\u001b[K     |████████████████████████████████| 63 kB 43.7 MB/s eta 0:00:01\n",
      "\u001b[?25hCollecting smmap<6,>=3.0.1\n",
      "  Downloading smmap-5.0.0-py3-none-any.whl (24 kB)\n",
      "Requirement already satisfied: urllib3<1.27,>=1.21.1 in /opt/conda/lib/python3.8/site-packages (from requests<3,>=2.0.0->wandb) (1.26.7)\n",
      "Requirement already satisfied: idna<4,>=2.5 in /opt/conda/lib/python3.8/site-packages (from requests<3,>=2.0.0->wandb) (3.1)\n",
      "Requirement already satisfied: charset-normalizer~=2.0.0 in /opt/conda/lib/python3.8/site-packages (from requests<3,>=2.0.0->wandb) (2.0.9)\n",
      "Requirement already satisfied: certifi>=2017.4.17 in /opt/conda/lib/python3.8/site-packages (from requests<3,>=2.0.0->wandb) (2021.10.8)\n",
      "Building wheels for collected packages: promise, pathtools\n",
      "  Building wheel for promise (setup.py) ... \u001b[?25ldone\n",
      "\u001b[?25h  Created wheel for promise: filename=promise-2.3-py3-none-any.whl size=21503 sha256=195d92bb6a82422db03875291da39b43e9d213dd0554090cf7f8710f896f3310\n",
      "  Stored in directory: /tmp/pip-ephem-wheel-cache-gd45t5rj/wheels/54/aa/01/724885182f93150035a2a91bce34a12877e8067a97baaf5dc8\n",
      "  Building wheel for pathtools (setup.py) ... \u001b[?25ldone\n",
      "\u001b[?25h  Created wheel for pathtools: filename=pathtools-0.1.2-py3-none-any.whl size=8807 sha256=d6a261bfd8028a0b38a8ad93cf71dc46d41beb60a43ad1c116e37198f5bbc15e\n",
      "  Stored in directory: /tmp/pip-ephem-wheel-cache-gd45t5rj/wheels/4c/8e/7e/72fbc243e1aeecae64a96875432e70d4e92f3d2d18123be004\n",
      "Successfully built promise pathtools\n",
      "Installing collected packages: smmap, gitdb, shortuuid, setproctitle, sentry-sdk, promise, pathtools, GitPython, docker-pycreds, wandb\n",
      "Successfully installed GitPython-3.1.27 docker-pycreds-0.4.0 gitdb-4.0.9 pathtools-0.1.2 promise-2.3 sentry-sdk-1.5.12 setproctitle-1.2.3 shortuuid-1.0.9 smmap-5.0.0 wandb-0.12.18\n",
      "\u001b[33mWARNING: Running pip as the 'root' user can result in broken permissions and conflicting behaviour with the system package manager. It is recommended to use a virtual environment instead: https://pip.pypa.io/warnings/venv\u001b[0m\n"
     ]
    }
   ],
   "source": [
    "# Weights and Bias to version the dataset\n",
    "!pip install wandb"
   ]
  },
  {
   "cell_type": "code",
   "execution_count": 4,
   "id": "c73f9205-561b-4f52-a990-097a25a66cea",
   "metadata": {},
   "outputs": [],
   "source": [
    "import nltk\n",
    "from nltk.corpus import stopwords\n",
    "from nltk.stem import PorterStemmer\n",
    "import re"
   ]
  },
  {
   "cell_type": "code",
   "execution_count": 5,
   "id": "3c018fd3-0a37-4967-bbe8-934788009a46",
   "metadata": {},
   "outputs": [],
   "source": [
    "import pandas as pd\n",
    "import numpy as np\n",
    "import matplotlib.pyplot as plt\n",
    "import seaborn as sns\n",
    "sns.set_theme(style=\"darkgrid\")\n",
    "import warnings\n",
    "warnings.filterwarnings(\"ignore\")"
   ]
  },
  {
   "cell_type": "code",
   "execution_count": 6,
   "id": "4eaeea90-e058-4450-bfeb-41ddcfe50473",
   "metadata": {},
   "outputs": [],
   "source": [
    "import wandb"
   ]
  },
  {
   "cell_type": "code",
   "execution_count": 7,
   "id": "7e992e24-c587-4b85-8080-a4ab7b3afd1b",
   "metadata": {},
   "outputs": [
    {
     "name": "stderr",
     "output_type": "stream",
     "text": [
      "\u001b[34m\u001b[1mwandb\u001b[0m: Logging into wandb.ai. (Learn how to deploy a W&B server locally: https://wandb.me/wandb-server)\n",
      "\u001b[34m\u001b[1mwandb\u001b[0m: You can find your API key in your browser here: https://wandb.ai/authorize\n"
     ]
    },
    {
     "name": "stdin",
     "output_type": "stream",
     "text": [
      "\u001b[34m\u001b[1mwandb\u001b[0m: Paste an API key from your profile and hit enter, or press ctrl+c to quit:  ········································\n"
     ]
    },
    {
     "name": "stderr",
     "output_type": "stream",
     "text": [
      "\u001b[34m\u001b[1mwandb\u001b[0m: Appending key for api.wandb.ai to your netrc file: /root/.netrc\n"
     ]
    },
    {
     "data": {
      "text/plain": [
       "True"
      ]
     },
     "execution_count": 7,
     "metadata": {},
     "output_type": "execute_result"
    }
   ],
   "source": [
    "wandb.login()"
   ]
  },
  {
   "cell_type": "code",
   "execution_count": 8,
   "id": "7a1ec0aa-9558-4ec7-a5fe-15f063d07f72",
   "metadata": {},
   "outputs": [],
   "source": [
    "# Use the following if you don't have the dataset in your system\n",
    "# To download the dataset from wandb artifacts\n",
    "# run = wandb.init()\n",
    "# artifact = run.use_artifact('alokpadhi/Medical-Transcription/processed_dataset:v0', type='raw_data')\n",
    "# artifact_dir = artifact.download()"
   ]
  },
  {
   "cell_type": "code",
   "execution_count": 9,
   "id": "32c547ee-1419-47a6-b790-42620c36e536",
   "metadata": {},
   "outputs": [],
   "source": [
    "import ipywidgets as widgets"
   ]
  },
  {
   "cell_type": "code",
   "execution_count": 10,
   "id": "d5a87d55-eabc-4dbc-a0ea-b2382b44312b",
   "metadata": {},
   "outputs": [
    {
     "data": {
      "text/html": [
       "<div>\n",
       "<style scoped>\n",
       "    .dataframe tbody tr th:only-of-type {\n",
       "        vertical-align: middle;\n",
       "    }\n",
       "\n",
       "    .dataframe tbody tr th {\n",
       "        vertical-align: top;\n",
       "    }\n",
       "\n",
       "    .dataframe thead th {\n",
       "        text-align: right;\n",
       "    }\n",
       "</style>\n",
       "<table border=\"1\" class=\"dataframe\">\n",
       "  <thead>\n",
       "    <tr style=\"text-align: right;\">\n",
       "      <th></th>\n",
       "      <th>medical_specialty</th>\n",
       "      <th>transcription</th>\n",
       "    </tr>\n",
       "  </thead>\n",
       "  <tbody>\n",
       "    <tr>\n",
       "      <th>0</th>\n",
       "      <td>allergy / immunology</td>\n",
       "      <td>subjective 23 year old white female presents c...</td>\n",
       "    </tr>\n",
       "    <tr>\n",
       "      <th>1</th>\n",
       "      <td>bariatrics</td>\n",
       "      <td>past medical history difficulty climbing stair...</td>\n",
       "    </tr>\n",
       "    <tr>\n",
       "      <th>2</th>\n",
       "      <td>bariatrics</td>\n",
       "      <td>history present illness seen abc today pleasan...</td>\n",
       "    </tr>\n",
       "    <tr>\n",
       "      <th>3</th>\n",
       "      <td>cardiovascular / pulmonary</td>\n",
       "      <td>2 mode 1 left atrial enlargement left atrial d...</td>\n",
       "    </tr>\n",
       "    <tr>\n",
       "      <th>4</th>\n",
       "      <td>cardiovascular / pulmonary</td>\n",
       "      <td>1 left ventricular cavity size wall thickness ...</td>\n",
       "    </tr>\n",
       "  </tbody>\n",
       "</table>\n",
       "</div>"
      ],
      "text/plain": [
       "            medical_specialty  \\\n",
       "0        allergy / immunology   \n",
       "1                  bariatrics   \n",
       "2                  bariatrics   \n",
       "3  cardiovascular / pulmonary   \n",
       "4  cardiovascular / pulmonary   \n",
       "\n",
       "                                       transcription  \n",
       "0  subjective 23 year old white female presents c...  \n",
       "1  past medical history difficulty climbing stair...  \n",
       "2  history present illness seen abc today pleasan...  \n",
       "3  2 mode 1 left atrial enlargement left atrial d...  \n",
       "4  1 left ventricular cavity size wall thickness ...  "
      ]
     },
     "execution_count": 10,
     "metadata": {},
     "output_type": "execute_result"
    }
   ],
   "source": [
    "df = pd.read_csv(\"../../dataset/processed/processed_transcriptions.csv\")\n",
    "df.head()"
   ]
  },
  {
   "cell_type": "code",
   "execution_count": 11,
   "id": "ec419684-8537-4fd8-b168-563929e45023",
   "metadata": {},
   "outputs": [],
   "source": [
    "# Feature and target\n",
    "X = df.transcription.to_numpy()\n",
    "y = df.medical_specialty"
   ]
  },
  {
   "cell_type": "code",
   "execution_count": 12,
   "id": "ce0a313f-bc01-4923-840b-17f87020aa07",
   "metadata": {},
   "outputs": [],
   "source": [
    "import json"
   ]
  },
  {
   "cell_type": "code",
   "execution_count": 13,
   "id": "1308e29a-3678-435e-ad2d-2acdc8a60e60",
   "metadata": {},
   "outputs": [],
   "source": [
    "# Label encoder to encode class labels\n",
    "class LabelEncoder(object):\n",
    "    \"\"\"Encode labels into unqiue ids/integers\"\"\"\n",
    "    def __init__(self, class_to_index={}):\n",
    "        self.class_to_index = class_to_index or {}\n",
    "        self.index_to_class = {v:k for k, v in self.class_to_index.items()}\n",
    "        self.classes = list(self.class_to_index.keys())\n",
    "        \n",
    "    def __len__(self):\n",
    "        return len(self.class_to_index)\n",
    "    \n",
    "    def __str__(self):\n",
    "        return f\"<LabelEncoder(num_classes={len(self)})>\"\n",
    "    \n",
    "    def fit(self, y):\n",
    "        classes = np.unique(y)\n",
    "        for i, class_ in enumerate(classes):\n",
    "            self.class_to_index[class_] = i\n",
    "        self.index_to_class = {v:k for k, v in self.class_to_index.items()}\n",
    "        self.classes = list(self.class_to_index.keys())\n",
    "        return self\n",
    "    \n",
    "    def encode(self, y):\n",
    "        encoded = np.zeros(len(y), dtype=int)\n",
    "        for i, item in enumerate(y):\n",
    "            encoded[i] = self.class_to_index[item]\n",
    "        return encoded\n",
    "    \n",
    "    def decode(self, y):\n",
    "        classes = []\n",
    "        for i, item in enumerate(y):\n",
    "            classes.append(self.index_to_class[item])\n",
    "            \n",
    "        return classes\n",
    "    \n",
    "    def save(self, fp):\n",
    "        with open(fp, \"w\") as fp:\n",
    "            contents = {\"class_to_index\": self.class_to_index}\n",
    "            json.dump(contents, fp, indent=4, sort_keys=False)\n",
    "    \n",
    "    @classmethod\n",
    "    def load(cls, fp):\n",
    "        with open(fp, \"r\") as fp:\n",
    "            kwargs = json.load(fp=fp)\n",
    "        return cls(**kwargs)"
   ]
  },
  {
   "cell_type": "code",
   "execution_count": 22,
   "id": "e3a07950-5a32-4c72-9e6a-cd02dd86ed93",
   "metadata": {},
   "outputs": [],
   "source": [
    "label_encoder = LabelEncoder.load(\"../../data_artifacts/label_encoder.json\")"
   ]
  },
  {
   "cell_type": "code",
   "execution_count": 23,
   "id": "6b363d9b-bdb9-4609-a6bd-6029fb391f22",
   "metadata": {},
   "outputs": [
    {
     "data": {
      "text/plain": [
       "{'allergy / immunology': 0,\n",
       " 'autopsy': 1,\n",
       " 'bariatrics': 2,\n",
       " 'cardiovascular / pulmonary': 3,\n",
       " 'chiropractic': 4,\n",
       " 'consult history phy': 5,\n",
       " 'cosmetic / plastic surgery': 6,\n",
       " 'dentistry': 7,\n",
       " 'dermatology': 8,\n",
       " 'diets nutritions': 9,\n",
       " 'discharge summary': 10,\n",
       " 'emergency room reports': 11,\n",
       " 'endocrinology': 12,\n",
       " 'ent otolaryngology': 13,\n",
       " 'gastroenterology': 14,\n",
       " 'general medicine': 15,\n",
       " 'hematology oncology': 16,\n",
       " 'hospice palliative care': 17,\n",
       " 'ime qme work comp etc': 18,\n",
       " 'lab medicine pathology': 19,\n",
       " 'letters': 20,\n",
       " 'nephrology': 21,\n",
       " 'neurology': 22,\n",
       " 'neurosurgery': 23,\n",
       " 'obstetrics / gynecology': 24,\n",
       " 'office notes': 25,\n",
       " 'ophthalmology': 26,\n",
       " 'orthopedic': 27,\n",
       " 'pain management': 28,\n",
       " 'pediatrics neonatal': 29,\n",
       " 'physical medicine rehab': 30,\n",
       " 'podiatry': 31,\n",
       " 'psychiatry / psychology': 32,\n",
       " 'radiology': 33,\n",
       " 'rheumatology': 34,\n",
       " 'sleep medicine': 35,\n",
       " 'soap / chart / progress notes': 36,\n",
       " 'speech language': 37,\n",
       " 'surgery': 38,\n",
       " 'urology': 39}"
      ]
     },
     "execution_count": 23,
     "metadata": {},
     "output_type": "execute_result"
    }
   ],
   "source": [
    "label_encoder.class_to_index"
   ]
  },
  {
   "cell_type": "code",
   "execution_count": 24,
   "id": "1b4364d2-4388-48d8-af06-2922cf7eecb6",
   "metadata": {},
   "outputs": [],
   "source": [
    "NUM_CLASSES = len(label_encoder)"
   ]
  },
  {
   "cell_type": "code",
   "execution_count": 25,
   "id": "ae0eb993-dd49-469b-9e4c-d71f05ab8f5f",
   "metadata": {},
   "outputs": [
    {
     "name": "stdout",
     "output_type": "stream",
     "text": [
      "Target sample: bariatrics\n",
      "Encoded target sample: [2]\n"
     ]
    }
   ],
   "source": [
    "# Check one example\n",
    "print(f\"Target sample: {y[15]}\")\n",
    "print(f\"Encoded target sample: {label_encoder.encode([y[15]])}\")"
   ]
  },
  {
   "cell_type": "code",
   "execution_count": 26,
   "id": "170d5125-9421-4fc5-9f1f-4f4210f67d9a",
   "metadata": {},
   "outputs": [
    {
     "name": "stdout",
     "output_type": "stream",
     "text": [
      "(4966,)\n"
     ]
    }
   ],
   "source": [
    "# Encode all our labels\n",
    "y = label_encoder.encode(y)\n",
    "print(y.shape)"
   ]
  },
  {
   "cell_type": "code",
   "execution_count": 27,
   "id": "2e650263-50dd-46fc-a7ff-f0771abd8da3",
   "metadata": {},
   "outputs": [],
   "source": [
    "from sklearn.model_selection import train_test_split"
   ]
  },
  {
   "cell_type": "code",
   "execution_count": 28,
   "id": "cefd77f9-1e8e-4b93-8b56-bd0ef2625fc4",
   "metadata": {},
   "outputs": [],
   "source": [
    "# split sizes\n",
    "train_size = 0.7\n",
    "val_size = 0.15\n",
    "test_size = 0.15"
   ]
  },
  {
   "cell_type": "code",
   "execution_count": 29,
   "id": "a6cd2220-cb95-4248-be3e-7dbfa5848da9",
   "metadata": {},
   "outputs": [],
   "source": [
    "# To ensure the target distribution remains same across the splits\n",
    "X_train, X_, y_train, y_ = train_test_split(\n",
    "                            X, y, train_size=train_size, stratify=y)"
   ]
  },
  {
   "cell_type": "code",
   "execution_count": 30,
   "id": "acfc4153-da15-45c5-a29c-08216ee18307",
   "metadata": {},
   "outputs": [
    {
     "name": "stdout",
     "output_type": "stream",
     "text": [
      "train: 3476 (0.70)\n",
      "remaining: 1490 (0.30)\n"
     ]
    }
   ],
   "source": [
    "print(f\"train: {len(X_train)} ({(len(X_train)/len(X)):.2f})\\n\"\n",
    "     f\"remaining: {len(X_)} ({(len(X_)/len(X)):.2f})\")"
   ]
  },
  {
   "cell_type": "code",
   "execution_count": 32,
   "id": "1202d541-e9f9-49da-8cfb-0863deec50d9",
   "metadata": {},
   "outputs": [],
   "source": [
    "# split for validation and test set\n",
    "X_val, X_test, y_val, y_test = train_test_split(\n",
    "                                X_, y_, train_size=0.5, stratify=y_)"
   ]
  },
  {
   "cell_type": "code",
   "execution_count": 33,
   "id": "278553e8-7bd4-47e9-b286-ed1fa581544c",
   "metadata": {},
   "outputs": [
    {
     "name": "stdout",
     "output_type": "stream",
     "text": [
      "train: 3476 (0.70)\n",
      "val: 745 (0.15)\n",
      "test: 745 (0.15)\n"
     ]
    }
   ],
   "source": [
    "print(f\"train: {len(X_train)} ({(len(X_train)/len(X)):.2f})\\n\"\n",
    "     f\"val: {len(X_val)} ({(len(X_val)/len(X)):.2f})\\n\"\n",
    "     f\"test: {len(X_test)} ({(len(X_test)/len(X)):.2f})\")"
   ]
  },
  {
   "cell_type": "code",
   "execution_count": 35,
   "id": "bfbab8a8-aedd-4284-8776-08aa941b29f5",
   "metadata": {},
   "outputs": [],
   "source": [
    "# Get counts for each class\n",
    "counts = {}\n",
    "counts[\"train_counts\"] = {specialty: label_encoder.decode(y_train).count(specialty) for specialty in label_encoder.classes}\n",
    "counts[\"val_counts\"] = {specialty: label_encoder.decode(y_val).count(specialty) for specialty in label_encoder.classes}\n",
    "counts[\"test_counts\"] = {specialty: label_encoder.decode(y_test).count(specialty) for specialty in label_encoder.classes}"
   ]
  },
  {
   "cell_type": "code",
   "execution_count": 38,
   "id": "34e309cb-bdfa-44a8-ae8c-1e9b898eae82",
   "metadata": {},
   "outputs": [],
   "source": [
    "pd.set_option(\"display.max_columns\", 40)"
   ]
  },
  {
   "cell_type": "code",
   "execution_count": 39,
   "id": "15c4c510-d494-4157-9fcc-1a18be892de3",
   "metadata": {},
   "outputs": [
    {
     "data": {
      "text/html": [
       "<div>\n",
       "<style scoped>\n",
       "    .dataframe tbody tr th:only-of-type {\n",
       "        vertical-align: middle;\n",
       "    }\n",
       "\n",
       "    .dataframe tbody tr th {\n",
       "        vertical-align: top;\n",
       "    }\n",
       "\n",
       "    .dataframe thead th {\n",
       "        text-align: right;\n",
       "    }\n",
       "</style>\n",
       "<table border=\"1\" class=\"dataframe\">\n",
       "  <thead>\n",
       "    <tr style=\"text-align: right;\">\n",
       "      <th></th>\n",
       "      <th>allergy / immunology</th>\n",
       "      <th>autopsy</th>\n",
       "      <th>bariatrics</th>\n",
       "      <th>cardiovascular / pulmonary</th>\n",
       "      <th>chiropractic</th>\n",
       "      <th>consult history phy</th>\n",
       "      <th>cosmetic / plastic surgery</th>\n",
       "      <th>dentistry</th>\n",
       "      <th>dermatology</th>\n",
       "      <th>diets nutritions</th>\n",
       "      <th>discharge summary</th>\n",
       "      <th>emergency room reports</th>\n",
       "      <th>endocrinology</th>\n",
       "      <th>ent otolaryngology</th>\n",
       "      <th>gastroenterology</th>\n",
       "      <th>general medicine</th>\n",
       "      <th>hematology oncology</th>\n",
       "      <th>hospice palliative care</th>\n",
       "      <th>ime qme work comp etc</th>\n",
       "      <th>lab medicine pathology</th>\n",
       "      <th>letters</th>\n",
       "      <th>nephrology</th>\n",
       "      <th>neurology</th>\n",
       "      <th>neurosurgery</th>\n",
       "      <th>obstetrics / gynecology</th>\n",
       "      <th>office notes</th>\n",
       "      <th>ophthalmology</th>\n",
       "      <th>orthopedic</th>\n",
       "      <th>pain management</th>\n",
       "      <th>pediatrics neonatal</th>\n",
       "      <th>physical medicine rehab</th>\n",
       "      <th>podiatry</th>\n",
       "      <th>psychiatry / psychology</th>\n",
       "      <th>radiology</th>\n",
       "      <th>rheumatology</th>\n",
       "      <th>sleep medicine</th>\n",
       "      <th>soap / chart / progress notes</th>\n",
       "      <th>speech language</th>\n",
       "      <th>surgery</th>\n",
       "      <th>urology</th>\n",
       "    </tr>\n",
       "  </thead>\n",
       "  <tbody>\n",
       "    <tr>\n",
       "      <th>train</th>\n",
       "      <td>5</td>\n",
       "      <td>6</td>\n",
       "      <td>13</td>\n",
       "      <td>260</td>\n",
       "      <td>10</td>\n",
       "      <td>361</td>\n",
       "      <td>19</td>\n",
       "      <td>19</td>\n",
       "      <td>20</td>\n",
       "      <td>7</td>\n",
       "      <td>76</td>\n",
       "      <td>52</td>\n",
       "      <td>13</td>\n",
       "      <td>67</td>\n",
       "      <td>157</td>\n",
       "      <td>181</td>\n",
       "      <td>63</td>\n",
       "      <td>4</td>\n",
       "      <td>11</td>\n",
       "      <td>6</td>\n",
       "      <td>16</td>\n",
       "      <td>57</td>\n",
       "      <td>156</td>\n",
       "      <td>66</td>\n",
       "      <td>108</td>\n",
       "      <td>35</td>\n",
       "      <td>58</td>\n",
       "      <td>248</td>\n",
       "      <td>43</td>\n",
       "      <td>49</td>\n",
       "      <td>15</td>\n",
       "      <td>33</td>\n",
       "      <td>37</td>\n",
       "      <td>191</td>\n",
       "      <td>7</td>\n",
       "      <td>14</td>\n",
       "      <td>116</td>\n",
       "      <td>6</td>\n",
       "      <td>762</td>\n",
       "      <td>109</td>\n",
       "    </tr>\n",
       "    <tr>\n",
       "      <th>val</th>\n",
       "      <td>1</td>\n",
       "      <td>1</td>\n",
       "      <td>3</td>\n",
       "      <td>56</td>\n",
       "      <td>2</td>\n",
       "      <td>78</td>\n",
       "      <td>4</td>\n",
       "      <td>4</td>\n",
       "      <td>4</td>\n",
       "      <td>2</td>\n",
       "      <td>16</td>\n",
       "      <td>11</td>\n",
       "      <td>3</td>\n",
       "      <td>15</td>\n",
       "      <td>33</td>\n",
       "      <td>39</td>\n",
       "      <td>13</td>\n",
       "      <td>1</td>\n",
       "      <td>3</td>\n",
       "      <td>1</td>\n",
       "      <td>3</td>\n",
       "      <td>12</td>\n",
       "      <td>33</td>\n",
       "      <td>14</td>\n",
       "      <td>23</td>\n",
       "      <td>8</td>\n",
       "      <td>13</td>\n",
       "      <td>53</td>\n",
       "      <td>9</td>\n",
       "      <td>10</td>\n",
       "      <td>3</td>\n",
       "      <td>7</td>\n",
       "      <td>8</td>\n",
       "      <td>41</td>\n",
       "      <td>2</td>\n",
       "      <td>3</td>\n",
       "      <td>25</td>\n",
       "      <td>2</td>\n",
       "      <td>163</td>\n",
       "      <td>23</td>\n",
       "    </tr>\n",
       "    <tr>\n",
       "      <th>test</th>\n",
       "      <td>1</td>\n",
       "      <td>1</td>\n",
       "      <td>2</td>\n",
       "      <td>55</td>\n",
       "      <td>2</td>\n",
       "      <td>77</td>\n",
       "      <td>4</td>\n",
       "      <td>4</td>\n",
       "      <td>5</td>\n",
       "      <td>1</td>\n",
       "      <td>16</td>\n",
       "      <td>12</td>\n",
       "      <td>3</td>\n",
       "      <td>14</td>\n",
       "      <td>34</td>\n",
       "      <td>39</td>\n",
       "      <td>14</td>\n",
       "      <td>1</td>\n",
       "      <td>2</td>\n",
       "      <td>1</td>\n",
       "      <td>4</td>\n",
       "      <td>12</td>\n",
       "      <td>34</td>\n",
       "      <td>14</td>\n",
       "      <td>24</td>\n",
       "      <td>7</td>\n",
       "      <td>12</td>\n",
       "      <td>54</td>\n",
       "      <td>9</td>\n",
       "      <td>11</td>\n",
       "      <td>3</td>\n",
       "      <td>7</td>\n",
       "      <td>8</td>\n",
       "      <td>41</td>\n",
       "      <td>1</td>\n",
       "      <td>3</td>\n",
       "      <td>25</td>\n",
       "      <td>1</td>\n",
       "      <td>163</td>\n",
       "      <td>24</td>\n",
       "    </tr>\n",
       "  </tbody>\n",
       "</table>\n",
       "</div>"
      ],
      "text/plain": [
       "       allergy / immunology  autopsy  bariatrics  cardiovascular / pulmonary  \\\n",
       "train                     5        6          13                         260   \n",
       "val                       1        1           3                          56   \n",
       "test                      1        1           2                          55   \n",
       "\n",
       "       chiropractic  consult history phy  cosmetic / plastic surgery  \\\n",
       "train            10                  361                          19   \n",
       "val               2                   78                           4   \n",
       "test              2                   77                           4   \n",
       "\n",
       "       dentistry  dermatology  diets nutritions  discharge summary  \\\n",
       "train         19           20                 7                 76   \n",
       "val            4            4                 2                 16   \n",
       "test           4            5                 1                 16   \n",
       "\n",
       "       emergency room reports  endocrinology  ent otolaryngology  \\\n",
       "train                      52             13                  67   \n",
       "val                        11              3                  15   \n",
       "test                       12              3                  14   \n",
       "\n",
       "       gastroenterology  general medicine  hematology oncology  \\\n",
       "train               157               181                   63   \n",
       "val                  33                39                   13   \n",
       "test                 34                39                   14   \n",
       "\n",
       "       hospice palliative care  ime qme work comp etc  lab medicine pathology  \\\n",
       "train                        4                     11                       6   \n",
       "val                          1                      3                       1   \n",
       "test                         1                      2                       1   \n",
       "\n",
       "       letters  nephrology  neurology  neurosurgery  obstetrics / gynecology  \\\n",
       "train       16          57        156            66                      108   \n",
       "val          3          12         33            14                       23   \n",
       "test         4          12         34            14                       24   \n",
       "\n",
       "       office notes  ophthalmology  orthopedic  pain management  \\\n",
       "train            35             58         248               43   \n",
       "val               8             13          53                9   \n",
       "test              7             12          54                9   \n",
       "\n",
       "       pediatrics neonatal  physical medicine rehab  podiatry  \\\n",
       "train                   49                       15        33   \n",
       "val                     10                        3         7   \n",
       "test                    11                        3         7   \n",
       "\n",
       "       psychiatry / psychology  radiology  rheumatology  sleep medicine  \\\n",
       "train                       37        191             7              14   \n",
       "val                          8         41             2               3   \n",
       "test                         8         41             1               3   \n",
       "\n",
       "       soap / chart / progress notes  speech language  surgery  urology  \n",
       "train                            116                6      762      109  \n",
       "val                               25                2      163       23  \n",
       "test                              25                1      163       24  "
      ]
     },
     "execution_count": 39,
     "metadata": {},
     "output_type": "execute_result"
    }
   ],
   "source": [
    "# convert the class distribution across splits to dataframe\n",
    "pd.DataFrame({\n",
    "    \"train\": counts[\"train_counts\"],\n",
    "    \"val\": counts[\"val_counts\"],\n",
    "    \"test\": counts[\"test_counts\"]\n",
    "}).T.fillna(0)"
   ]
  },
  {
   "cell_type": "code",
   "execution_count": 40,
   "id": "17b2c705-065a-4536-8a7c-e15140751696",
   "metadata": {},
   "outputs": [],
   "source": [
    "# adjust counts across splits due to the propertion difference between them\n",
    "for k in counts[\"val_counts\"].keys():\n",
    "    counts[\"val_counts\"][k] = int(counts[\"val_counts\"][k] * \\\n",
    "                                 (train_size/val_size))\n",
    "    \n",
    "for k in counts[\"test_counts\"].keys():\n",
    "    counts[\"test_counts\"][k] = int(counts[\"test_counts\"][k] * \\\n",
    "                                  (train_size/test_size))"
   ]
  },
  {
   "cell_type": "code",
   "execution_count": 41,
   "id": "80588317-d6f2-41e1-990d-806a648f06c8",
   "metadata": {},
   "outputs": [
    {
     "data": {
      "text/html": [
       "<div>\n",
       "<style scoped>\n",
       "    .dataframe tbody tr th:only-of-type {\n",
       "        vertical-align: middle;\n",
       "    }\n",
       "\n",
       "    .dataframe tbody tr th {\n",
       "        vertical-align: top;\n",
       "    }\n",
       "\n",
       "    .dataframe thead th {\n",
       "        text-align: right;\n",
       "    }\n",
       "</style>\n",
       "<table border=\"1\" class=\"dataframe\">\n",
       "  <thead>\n",
       "    <tr style=\"text-align: right;\">\n",
       "      <th></th>\n",
       "      <th>allergy / immunology</th>\n",
       "      <th>autopsy</th>\n",
       "      <th>bariatrics</th>\n",
       "      <th>cardiovascular / pulmonary</th>\n",
       "      <th>chiropractic</th>\n",
       "      <th>consult history phy</th>\n",
       "      <th>cosmetic / plastic surgery</th>\n",
       "      <th>dentistry</th>\n",
       "      <th>dermatology</th>\n",
       "      <th>diets nutritions</th>\n",
       "      <th>discharge summary</th>\n",
       "      <th>emergency room reports</th>\n",
       "      <th>endocrinology</th>\n",
       "      <th>ent otolaryngology</th>\n",
       "      <th>gastroenterology</th>\n",
       "      <th>general medicine</th>\n",
       "      <th>hematology oncology</th>\n",
       "      <th>hospice palliative care</th>\n",
       "      <th>ime qme work comp etc</th>\n",
       "      <th>lab medicine pathology</th>\n",
       "      <th>letters</th>\n",
       "      <th>nephrology</th>\n",
       "      <th>neurology</th>\n",
       "      <th>neurosurgery</th>\n",
       "      <th>obstetrics / gynecology</th>\n",
       "      <th>office notes</th>\n",
       "      <th>ophthalmology</th>\n",
       "      <th>orthopedic</th>\n",
       "      <th>pain management</th>\n",
       "      <th>pediatrics neonatal</th>\n",
       "      <th>physical medicine rehab</th>\n",
       "      <th>podiatry</th>\n",
       "      <th>psychiatry / psychology</th>\n",
       "      <th>radiology</th>\n",
       "      <th>rheumatology</th>\n",
       "      <th>sleep medicine</th>\n",
       "      <th>soap / chart / progress notes</th>\n",
       "      <th>speech language</th>\n",
       "      <th>surgery</th>\n",
       "      <th>urology</th>\n",
       "    </tr>\n",
       "  </thead>\n",
       "  <tbody>\n",
       "    <tr>\n",
       "      <th>train</th>\n",
       "      <td>5</td>\n",
       "      <td>6</td>\n",
       "      <td>13</td>\n",
       "      <td>260</td>\n",
       "      <td>10</td>\n",
       "      <td>361</td>\n",
       "      <td>19</td>\n",
       "      <td>19</td>\n",
       "      <td>20</td>\n",
       "      <td>7</td>\n",
       "      <td>76</td>\n",
       "      <td>52</td>\n",
       "      <td>13</td>\n",
       "      <td>67</td>\n",
       "      <td>157</td>\n",
       "      <td>181</td>\n",
       "      <td>63</td>\n",
       "      <td>4</td>\n",
       "      <td>11</td>\n",
       "      <td>6</td>\n",
       "      <td>16</td>\n",
       "      <td>57</td>\n",
       "      <td>156</td>\n",
       "      <td>66</td>\n",
       "      <td>108</td>\n",
       "      <td>35</td>\n",
       "      <td>58</td>\n",
       "      <td>248</td>\n",
       "      <td>43</td>\n",
       "      <td>49</td>\n",
       "      <td>15</td>\n",
       "      <td>33</td>\n",
       "      <td>37</td>\n",
       "      <td>191</td>\n",
       "      <td>7</td>\n",
       "      <td>14</td>\n",
       "      <td>116</td>\n",
       "      <td>6</td>\n",
       "      <td>762</td>\n",
       "      <td>109</td>\n",
       "    </tr>\n",
       "    <tr>\n",
       "      <th>val</th>\n",
       "      <td>4</td>\n",
       "      <td>4</td>\n",
       "      <td>14</td>\n",
       "      <td>261</td>\n",
       "      <td>9</td>\n",
       "      <td>364</td>\n",
       "      <td>18</td>\n",
       "      <td>18</td>\n",
       "      <td>18</td>\n",
       "      <td>9</td>\n",
       "      <td>74</td>\n",
       "      <td>51</td>\n",
       "      <td>14</td>\n",
       "      <td>70</td>\n",
       "      <td>154</td>\n",
       "      <td>182</td>\n",
       "      <td>60</td>\n",
       "      <td>4</td>\n",
       "      <td>14</td>\n",
       "      <td>4</td>\n",
       "      <td>14</td>\n",
       "      <td>56</td>\n",
       "      <td>154</td>\n",
       "      <td>65</td>\n",
       "      <td>107</td>\n",
       "      <td>37</td>\n",
       "      <td>60</td>\n",
       "      <td>247</td>\n",
       "      <td>42</td>\n",
       "      <td>46</td>\n",
       "      <td>14</td>\n",
       "      <td>32</td>\n",
       "      <td>37</td>\n",
       "      <td>191</td>\n",
       "      <td>9</td>\n",
       "      <td>14</td>\n",
       "      <td>116</td>\n",
       "      <td>9</td>\n",
       "      <td>760</td>\n",
       "      <td>107</td>\n",
       "    </tr>\n",
       "    <tr>\n",
       "      <th>test</th>\n",
       "      <td>4</td>\n",
       "      <td>4</td>\n",
       "      <td>9</td>\n",
       "      <td>256</td>\n",
       "      <td>9</td>\n",
       "      <td>359</td>\n",
       "      <td>18</td>\n",
       "      <td>18</td>\n",
       "      <td>23</td>\n",
       "      <td>4</td>\n",
       "      <td>74</td>\n",
       "      <td>56</td>\n",
       "      <td>14</td>\n",
       "      <td>65</td>\n",
       "      <td>158</td>\n",
       "      <td>182</td>\n",
       "      <td>65</td>\n",
       "      <td>4</td>\n",
       "      <td>9</td>\n",
       "      <td>4</td>\n",
       "      <td>18</td>\n",
       "      <td>56</td>\n",
       "      <td>158</td>\n",
       "      <td>65</td>\n",
       "      <td>112</td>\n",
       "      <td>32</td>\n",
       "      <td>56</td>\n",
       "      <td>252</td>\n",
       "      <td>42</td>\n",
       "      <td>51</td>\n",
       "      <td>14</td>\n",
       "      <td>32</td>\n",
       "      <td>37</td>\n",
       "      <td>191</td>\n",
       "      <td>4</td>\n",
       "      <td>14</td>\n",
       "      <td>116</td>\n",
       "      <td>4</td>\n",
       "      <td>760</td>\n",
       "      <td>112</td>\n",
       "    </tr>\n",
       "  </tbody>\n",
       "</table>\n",
       "</div>"
      ],
      "text/plain": [
       "       allergy / immunology  autopsy  bariatrics  cardiovascular / pulmonary  \\\n",
       "train                     5        6          13                         260   \n",
       "val                       4        4          14                         261   \n",
       "test                      4        4           9                         256   \n",
       "\n",
       "       chiropractic  consult history phy  cosmetic / plastic surgery  \\\n",
       "train            10                  361                          19   \n",
       "val               9                  364                          18   \n",
       "test              9                  359                          18   \n",
       "\n",
       "       dentistry  dermatology  diets nutritions  discharge summary  \\\n",
       "train         19           20                 7                 76   \n",
       "val           18           18                 9                 74   \n",
       "test          18           23                 4                 74   \n",
       "\n",
       "       emergency room reports  endocrinology  ent otolaryngology  \\\n",
       "train                      52             13                  67   \n",
       "val                        51             14                  70   \n",
       "test                       56             14                  65   \n",
       "\n",
       "       gastroenterology  general medicine  hematology oncology  \\\n",
       "train               157               181                   63   \n",
       "val                 154               182                   60   \n",
       "test                158               182                   65   \n",
       "\n",
       "       hospice palliative care  ime qme work comp etc  lab medicine pathology  \\\n",
       "train                        4                     11                       6   \n",
       "val                          4                     14                       4   \n",
       "test                         4                      9                       4   \n",
       "\n",
       "       letters  nephrology  neurology  neurosurgery  obstetrics / gynecology  \\\n",
       "train       16          57        156            66                      108   \n",
       "val         14          56        154            65                      107   \n",
       "test        18          56        158            65                      112   \n",
       "\n",
       "       office notes  ophthalmology  orthopedic  pain management  \\\n",
       "train            35             58         248               43   \n",
       "val              37             60         247               42   \n",
       "test             32             56         252               42   \n",
       "\n",
       "       pediatrics neonatal  physical medicine rehab  podiatry  \\\n",
       "train                   49                       15        33   \n",
       "val                     46                       14        32   \n",
       "test                    51                       14        32   \n",
       "\n",
       "       psychiatry / psychology  radiology  rheumatology  sleep medicine  \\\n",
       "train                       37        191             7              14   \n",
       "val                         37        191             9              14   \n",
       "test                        37        191             4              14   \n",
       "\n",
       "       soap / chart / progress notes  speech language  surgery  urology  \n",
       "train                            116                6      762      109  \n",
       "val                              116                9      760      107  \n",
       "test                             116                4      760      112  "
      ]
     },
     "execution_count": 41,
     "metadata": {},
     "output_type": "execute_result"
    }
   ],
   "source": [
    "dist_df = pd.DataFrame({\n",
    "    \"train\": counts[\"train_counts\"],\n",
    "    \"val\": counts[\"val_counts\"],\n",
    "    \"test\": counts[\"test_counts\"]\n",
    "}).T.fillna(0)\n",
    "dist_df"
   ]
  },
  {
   "cell_type": "code",
   "execution_count": 42,
   "id": "dfe41a89-dd6d-4112-8836-1be860e18442",
   "metadata": {},
   "outputs": [
    {
     "data": {
      "text/plain": [
       "1.2239856098339892"
      ]
     },
     "execution_count": 42,
     "metadata": {},
     "output_type": "execute_result"
    }
   ],
   "source": [
    "# check the standard deviation\n",
    "np.mean(np.std(dist_df.to_numpy(), axis=0))"
   ]
  },
  {
   "cell_type": "code",
   "execution_count": 44,
   "id": "9d0e8fc2-0b37-45bf-9972-69b86a7620dd",
   "metadata": {},
   "outputs": [],
   "source": [
    "train_df = pd.DataFrame({\"transcription\": X_train, \"specialty\": label_encoder.decode(y_train)})\n",
    "val_df = pd.DataFrame({\"transcription\": X_val, \"specialty\": label_encoder.decode(y_val)})\n",
    "test_df = pd.DataFrame({\"transcription\": X_test, \"specialty\": label_encoder.decode(y_test)})"
   ]
  },
  {
   "cell_type": "code",
   "execution_count": 45,
   "id": "96e39e0b-1dfb-4e98-9d38-e7682af1c1a2",
   "metadata": {},
   "outputs": [
    {
     "data": {
      "text/plain": [
       "(3476, 2)"
      ]
     },
     "execution_count": 45,
     "metadata": {},
     "output_type": "execute_result"
    }
   ],
   "source": [
    "train_df.shape"
   ]
  },
  {
   "cell_type": "code",
   "execution_count": 46,
   "id": "fa10a5ce-7107-433e-9c3e-f2466b779515",
   "metadata": {},
   "outputs": [
    {
     "data": {
      "text/plain": [
       "(745, 2)"
      ]
     },
     "execution_count": 46,
     "metadata": {},
     "output_type": "execute_result"
    }
   ],
   "source": [
    "val_df.shape"
   ]
  },
  {
   "cell_type": "code",
   "execution_count": 47,
   "id": "c2eb580c-09cd-409d-915b-ddc762748f81",
   "metadata": {},
   "outputs": [
    {
     "data": {
      "text/plain": [
       "(745, 2)"
      ]
     },
     "execution_count": 47,
     "metadata": {},
     "output_type": "execute_result"
    }
   ],
   "source": [
    "test_df.shape"
   ]
  },
  {
   "cell_type": "code",
   "execution_count": 48,
   "id": "b34bb0e9-ff28-41c4-84bd-6d1307b7f126",
   "metadata": {},
   "outputs": [
    {
     "data": {
      "text/html": [
       "<div>\n",
       "<style scoped>\n",
       "    .dataframe tbody tr th:only-of-type {\n",
       "        vertical-align: middle;\n",
       "    }\n",
       "\n",
       "    .dataframe tbody tr th {\n",
       "        vertical-align: top;\n",
       "    }\n",
       "\n",
       "    .dataframe thead th {\n",
       "        text-align: right;\n",
       "    }\n",
       "</style>\n",
       "<table border=\"1\" class=\"dataframe\">\n",
       "  <thead>\n",
       "    <tr style=\"text-align: right;\">\n",
       "      <th></th>\n",
       "      <th>transcription</th>\n",
       "      <th>specialty</th>\n",
       "    </tr>\n",
       "  </thead>\n",
       "  <tbody>\n",
       "    <tr>\n",
       "      <th>0</th>\n",
       "      <td>indications 55 year old female colonoscopy scr...</td>\n",
       "      <td>surgery</td>\n",
       "    </tr>\n",
       "    <tr>\n",
       "      <th>1</th>\n",
       "      <td>axial back pain greatly improved completely er...</td>\n",
       "      <td>consult history phy</td>\n",
       "    </tr>\n",
       "    <tr>\n",
       "      <th>2</th>\n",
       "      <td>preoperative diagnoses epiretinal membrane rig...</td>\n",
       "      <td>ophthalmology</td>\n",
       "    </tr>\n",
       "    <tr>\n",
       "      <th>3</th>\n",
       "      <td>preoperative diagnosis squamous cell carcinoma...</td>\n",
       "      <td>surgery</td>\n",
       "    </tr>\n",
       "    <tr>\n",
       "      <th>4</th>\n",
       "      <td>exam ultrasound guided paracentesis history as...</td>\n",
       "      <td>surgery</td>\n",
       "    </tr>\n",
       "  </tbody>\n",
       "</table>\n",
       "</div>"
      ],
      "text/plain": [
       "                                       transcription            specialty\n",
       "0  indications 55 year old female colonoscopy scr...              surgery\n",
       "1  axial back pain greatly improved completely er...  consult history phy\n",
       "2  preoperative diagnoses epiretinal membrane rig...        ophthalmology\n",
       "3  preoperative diagnosis squamous cell carcinoma...              surgery\n",
       "4  exam ultrasound guided paracentesis history as...              surgery"
      ]
     },
     "execution_count": 48,
     "metadata": {},
     "output_type": "execute_result"
    }
   ],
   "source": [
    "# check train\n",
    "train_df.head()"
   ]
  },
  {
   "cell_type": "code",
   "execution_count": 49,
   "id": "a856de5c-0c14-47c8-b4c9-70760b977519",
   "metadata": {},
   "outputs": [],
   "source": [
    "from pathlib import Path"
   ]
  },
  {
   "cell_type": "code",
   "execution_count": 59,
   "id": "9d13e056-8c59-416d-84e5-445b0932b0cd",
   "metadata": {},
   "outputs": [],
   "source": [
    "train_dataset_path = Path(\"../../dataset/v1.0/train/train.parquet\")\n",
    "val_dataset_path = Path(\"../../dataset/v1.0/val/val.parquet\")\n",
    "test_dataset_path = Path(\"../../dataset/v1.0/test/test.parquet\")"
   ]
  },
  {
   "cell_type": "code",
   "execution_count": 60,
   "id": "0b141183-b54d-499b-800a-61a16d594e5b",
   "metadata": {},
   "outputs": [
    {
     "data": {
      "text/plain": [
       "pathlib.PosixPath"
      ]
     },
     "execution_count": 60,
     "metadata": {},
     "output_type": "execute_result"
    }
   ],
   "source": [
    "type(train_dataset_path)"
   ]
  },
  {
   "cell_type": "code",
   "execution_count": 61,
   "id": "8a288743-3920-4159-a59f-9ca7786d1be8",
   "metadata": {},
   "outputs": [],
   "source": [
    "# store the above splits both in parquet and csv format\n",
    "# parquet format is a column based, and faster than csv to read\n",
    "train_df.to_parquet(train_dataset_path,index=False)\n",
    "val_df.to_parquet(val_dataset_path,index=False)\n",
    "test_df.to_parquet(test_dataset_path,index=False)"
   ]
  },
  {
   "cell_type": "code",
   "execution_count": 66,
   "id": "ab187f93-a6d1-46e2-9eb6-e9be93e5926c",
   "metadata": {},
   "outputs": [],
   "source": [
    "v1_datapath = Path(\"../../dataset/v1.0/\")"
   ]
  },
  {
   "cell_type": "code",
   "execution_count": 69,
   "id": "935b630b-69da-45ec-9f5f-7d44ce8912d5",
   "metadata": {},
   "outputs": [
    {
     "data": {
      "text/html": [
       "Finishing last run (ID:38lhovm3) before initializing another..."
      ],
      "text/plain": [
       "<IPython.core.display.HTML object>"
      ]
     },
     "metadata": {},
     "output_type": "display_data"
    },
    {
     "data": {
      "text/html": [
       "Waiting for W&B process to finish... <strong style=\"color:green\">(success).</strong>"
      ],
      "text/plain": [
       "<IPython.core.display.HTML object>"
      ]
     },
     "metadata": {},
     "output_type": "display_data"
    },
    {
     "data": {
      "application/vnd.jupyter.widget-view+json": {
       "model_id": "2564872389504be9b83cede3e0fe67ab",
       "version_major": 2,
       "version_minor": 0
      },
      "text/plain": [
       "VBox(children=(Label(value='0.001 MB of 0.001 MB uploaded (0.000 MB deduped)\\r'), FloatProgress(value=1.0, max…"
      ]
     },
     "metadata": {},
     "output_type": "display_data"
    },
    {
     "data": {
      "text/html": [
       "Synced <strong style=\"color:#cdcd00\">silvery-dawn-3</strong>: <a href=\"https://wandb.ai/alokpadhi/Medical-Transcription/runs/38lhovm3\" target=\"_blank\">https://wandb.ai/alokpadhi/Medical-Transcription/runs/38lhovm3</a><br/>Synced 4 W&B file(s), 0 media file(s), 0 artifact file(s) and 0 other file(s)"
      ],
      "text/plain": [
       "<IPython.core.display.HTML object>"
      ]
     },
     "metadata": {},
     "output_type": "display_data"
    },
    {
     "data": {
      "text/html": [
       "Find logs at: <code>./wandb/run-20220620_181404-38lhovm3/logs</code>"
      ],
      "text/plain": [
       "<IPython.core.display.HTML object>"
      ]
     },
     "metadata": {},
     "output_type": "display_data"
    },
    {
     "data": {
      "text/html": [
       "Successfully finished last run (ID:38lhovm3). Initializing new run:<br/>"
      ],
      "text/plain": [
       "<IPython.core.display.HTML object>"
      ]
     },
     "metadata": {},
     "output_type": "display_data"
    },
    {
     "data": {
      "text/html": [
       "Tracking run with wandb version 0.12.18"
      ],
      "text/plain": [
       "<IPython.core.display.HTML object>"
      ]
     },
     "metadata": {},
     "output_type": "display_data"
    },
    {
     "data": {
      "text/html": [
       "Run data is saved locally in <code>/notebooks/project/medical-transcriptions/notebooks/modeling/wandb/run-20220620_181436-3k64mvju</code>"
      ],
      "text/plain": [
       "<IPython.core.display.HTML object>"
      ]
     },
     "metadata": {},
     "output_type": "display_data"
    },
    {
     "data": {
      "text/html": [
       "Syncing run <strong><a href=\"https://wandb.ai/alokpadhi/Medical-Transcription/runs/3k64mvju\" target=\"_blank\">proud-bird-4</a></strong> to <a href=\"https://wandb.ai/alokpadhi/Medical-Transcription\" target=\"_blank\">Weights & Biases</a> (<a href=\"https://wandb.me/run\" target=\"_blank\">docs</a>)<br/>"
      ],
      "text/plain": [
       "<IPython.core.display.HTML object>"
      ]
     },
     "metadata": {},
     "output_type": "display_data"
    },
    {
     "name": "stderr",
     "output_type": "stream",
     "text": [
      "\u001b[34m\u001b[1mwandb\u001b[0m: Adding directory to artifact (./../../dataset/v1.0/train)... Done. 0.1s\n",
      "\u001b[34m\u001b[1mwandb\u001b[0m: Adding directory to artifact (./../../dataset/v1.0/val)... Done. 0.0s\n",
      "\u001b[34m\u001b[1mwandb\u001b[0m: Adding directory to artifact (./../../dataset/v1.0/test)... Done. 0.0s\n"
     ]
    },
    {
     "data": {
      "text/plain": [
       "<wandb.sdk.wandb_artifacts.Artifact at 0x7f0eb7491f70>"
      ]
     },
     "execution_count": 69,
     "metadata": {},
     "output_type": "execute_result"
    }
   ],
   "source": [
    "# dataset version for v1\n",
    "datav1_run = wandb.init(project=\"Medical-Transcription\")\n",
    "datav1 = wandb.Artifact(\"Dataset_V1_0\", type=\"raw_data\", description=\"Train, Val and test splits\", metadata={\"train_size\": len(train_df), \"val_size\": len(val_df),\n",
    "                                                                                                            \"test_size\": len(test_df)})\n",
    "for dir in [\"train\", \"val\", \"test\"]:\n",
    "    datav1.add_dir(Path(v1_datapath, dir))\n",
    "    \n",
    "datav1_run.log_artifact(datav1)"
   ]
  },
  {
   "cell_type": "code",
   "execution_count": 1,
   "id": "dbcfa87d-1966-4aa7-b6ea-cf40fb49d715",
   "metadata": {},
   "outputs": [],
   "source": [
    "# # use this code to download the split dataset files\n",
    "# import wandb\n",
    "# run = wandb.init()\n",
    "# artifact = run.use_artifact('alokpadhi/Medical-Transcription/Dataset_V1_0:v0', type='raw_data')\n",
    "# artifact_dir = artifact.download()"
   ]
  },
  {
   "cell_type": "code",
   "execution_count": null,
   "id": "376baea5-de3e-4c39-b525-0530f379ed18",
   "metadata": {},
   "outputs": [],
   "source": []
  }
 ],
 "metadata": {
  "kernelspec": {
   "display_name": "Python 3 (ipykernel)",
   "language": "python",
   "name": "python3"
  },
  "language_info": {
   "codemirror_mode": {
    "name": "ipython",
    "version": 3
   },
   "file_extension": ".py",
   "mimetype": "text/x-python",
   "name": "python",
   "nbconvert_exporter": "python",
   "pygments_lexer": "ipython3",
   "version": "3.8.12"
  }
 },
 "nbformat": 4,
 "nbformat_minor": 5
}
