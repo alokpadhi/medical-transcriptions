{
 "cells": [
  {
   "cell_type": "code",
   "execution_count": 1,
   "id": "b5493224-6a48-4cec-8cce-083f33fd12fe",
   "metadata": {},
   "outputs": [
    {
     "name": "stdout",
     "output_type": "stream",
     "text": [
      "Looking in indexes: https://pypi.org/simple, https://pypi.ngc.nvidia.com\n",
      "Requirement already satisfied: seaborn in /opt/conda/lib/python3.8/site-packages (0.11.2)\n",
      "Requirement already satisfied: numpy>=1.15 in /opt/conda/lib/python3.8/site-packages (from seaborn) (1.22.2)\n",
      "Requirement already satisfied: scipy>=1.0 in /opt/conda/lib/python3.8/site-packages (from seaborn) (1.6.3)\n",
      "Requirement already satisfied: matplotlib>=2.2 in /opt/conda/lib/python3.8/site-packages (from seaborn) (3.5.1)\n",
      "Requirement already satisfied: pandas>=0.23 in /opt/conda/lib/python3.8/site-packages (from seaborn) (1.3.5)\n",
      "Requirement already satisfied: pillow>=6.2.0 in /opt/conda/lib/python3.8/site-packages (from matplotlib>=2.2->seaborn) (9.0.0)\n",
      "Requirement already satisfied: cycler>=0.10 in /opt/conda/lib/python3.8/site-packages (from matplotlib>=2.2->seaborn) (0.11.0)\n",
      "Requirement already satisfied: packaging>=20.0 in /opt/conda/lib/python3.8/site-packages (from matplotlib>=2.2->seaborn) (21.3)\n",
      "Requirement already satisfied: python-dateutil>=2.7 in /opt/conda/lib/python3.8/site-packages (from matplotlib>=2.2->seaborn) (2.8.2)\n",
      "Requirement already satisfied: kiwisolver>=1.0.1 in /opt/conda/lib/python3.8/site-packages (from matplotlib>=2.2->seaborn) (1.3.2)\n",
      "Requirement already satisfied: pyparsing>=2.2.1 in /opt/conda/lib/python3.8/site-packages (from matplotlib>=2.2->seaborn) (3.0.7)\n",
      "Requirement already satisfied: fonttools>=4.22.0 in /opt/conda/lib/python3.8/site-packages (from matplotlib>=2.2->seaborn) (4.29.1)\n",
      "Requirement already satisfied: pytz>=2017.3 in /opt/conda/lib/python3.8/site-packages (from pandas>=0.23->seaborn) (2021.3)\n",
      "Requirement already satisfied: six>=1.5 in /opt/conda/lib/python3.8/site-packages (from python-dateutil>=2.7->matplotlib>=2.2->seaborn) (1.16.0)\n",
      "\u001b[33mWARNING: Running pip as the 'root' user can result in broken permissions and conflicting behaviour with the system package manager. It is recommended to use a virtual environment instead: https://pip.pypa.io/warnings/venv\u001b[0m\n",
      "Note: you may need to restart the kernel to use updated packages.\n"
     ]
    }
   ],
   "source": [
    "%pip install seaborn"
   ]
  },
  {
   "cell_type": "code",
   "execution_count": 2,
   "id": "5458eaf2-e2c8-4130-a0b6-20fc9e4de330",
   "metadata": {},
   "outputs": [
    {
     "name": "stdout",
     "output_type": "stream",
     "text": [
      "Collecting package metadata (current_repodata.json): done\n",
      "Solving environment: done\n",
      "\n",
      "## Package Plan ##\n",
      "\n",
      "  environment location: /opt/conda\n",
      "\n",
      "  added / updated specs:\n",
      "    - wordcloud\n",
      "\n",
      "\n",
      "The following packages will be downloaded:\n",
      "\n",
      "    package                    |            build\n",
      "    ---------------------------|-----------------\n",
      "    ca-certificates-2022.6.15  |       ha878542_0         149 KB  conda-forge\n",
      "    certifi-2022.6.15          |   py38h578d9bd_0         155 KB  conda-forge\n",
      "    conda-4.13.0               |   py38h578d9bd_1         994 KB  conda-forge\n",
      "    cycler-0.11.0              |     pyhd8ed1ab_0          10 KB  conda-forge\n",
      "    freetype-2.10.4            |       h0708190_1         890 KB  conda-forge\n",
      "    jpeg-9e                    |       h166bdaf_1         268 KB  conda-forge\n",
      "    kiwisolver-1.4.3           |   py38h43d8883_0          75 KB  conda-forge\n",
      "    lcms2-2.12                 |       hddcbb42_0         443 KB  conda-forge\n",
      "    lerc-3.0                   |       h9c3ff4c_0         216 KB  conda-forge\n",
      "    libdeflate-1.10            |       h7f98852_0          77 KB  conda-forge\n",
      "    libgcc-ng-12.1.0           |      h8d9b700_16         940 KB  conda-forge\n",
      "    libpng-1.6.37              |       h21135ba_2         306 KB  conda-forge\n",
      "    libstdcxx-ng-12.1.0        |      ha89aaad_16         4.3 MB  conda-forge\n",
      "    libtiff-4.3.0              |       h0fcbabc_4         635 KB  conda-forge\n",
      "    libwebp-base-1.2.2         |       h7f98852_1         824 KB  conda-forge\n",
      "    matplotlib-base-3.4.3      |   py38hf4fb855_1         7.3 MB  conda-forge\n",
      "    olefile-0.46               |     pyh9f0ad1d_1          32 KB  conda-forge\n",
      "    openjpeg-2.4.0             |       hb52868f_1         444 KB  conda-forge\n",
      "    openssl-1.1.1p             |       h166bdaf_0         2.1 MB  conda-forge\n",
      "    pillow-8.4.0               |   py38h8e6f84c_0         704 KB  conda-forge\n",
      "    python-dateutil-2.8.2      |     pyhd8ed1ab_0         240 KB  conda-forge\n",
      "    tornado-6.1                |   py38h0a891b7_3         645 KB  conda-forge\n",
      "    wordcloud-1.8.1            |   py38h497a2fe_2         190 KB  conda-forge\n",
      "    ------------------------------------------------------------\n",
      "                                           Total:        21.8 MB\n",
      "\n",
      "The following NEW packages will be INSTALLED:\n",
      "\n",
      "  cycler             conda-forge/noarch::cycler-0.11.0-pyhd8ed1ab_0\n",
      "  freetype           conda-forge/linux-64::freetype-2.10.4-h0708190_1\n",
      "  jpeg               conda-forge/linux-64::jpeg-9e-h166bdaf_1\n",
      "  kiwisolver         conda-forge/linux-64::kiwisolver-1.4.3-py38h43d8883_0\n",
      "  lcms2              conda-forge/linux-64::lcms2-2.12-hddcbb42_0\n",
      "  lerc               conda-forge/linux-64::lerc-3.0-h9c3ff4c_0\n",
      "  libdeflate         conda-forge/linux-64::libdeflate-1.10-h7f98852_0\n",
      "  libpng             conda-forge/linux-64::libpng-1.6.37-h21135ba_2\n",
      "  libtiff            conda-forge/linux-64::libtiff-4.3.0-h0fcbabc_4\n",
      "  libwebp-base       conda-forge/linux-64::libwebp-base-1.2.2-h7f98852_1\n",
      "  matplotlib-base    conda-forge/linux-64::matplotlib-base-3.4.3-py38hf4fb855_1\n",
      "  olefile            conda-forge/noarch::olefile-0.46-pyh9f0ad1d_1\n",
      "  openjpeg           conda-forge/linux-64::openjpeg-2.4.0-hb52868f_1\n",
      "  pillow             conda-forge/linux-64::pillow-8.4.0-py38h8e6f84c_0\n",
      "  python-dateutil    conda-forge/noarch::python-dateutil-2.8.2-pyhd8ed1ab_0\n",
      "  tornado            conda-forge/linux-64::tornado-6.1-py38h0a891b7_3\n",
      "  wordcloud          conda-forge/linux-64::wordcloud-1.8.1-py38h497a2fe_2\n",
      "\n",
      "The following packages will be REMOVED:\n",
      "\n",
      "  libgomp-11.2.0-h1d223b6_11\n",
      "\n",
      "The following packages will be UPDATED:\n",
      "\n",
      "  ca-certificates                      2021.10.8-ha878542_0 --> 2022.6.15-ha878542_0\n",
      "  certifi                          2021.10.8-py38h578d9bd_1 --> 2022.6.15-py38h578d9bd_0\n",
      "  conda                               4.11.0-py38h578d9bd_0 --> 4.13.0-py38h578d9bd_1\n",
      "  libgcc-ng                              11.2.0-h1d223b6_11 --> 12.1.0-h8d9b700_16\n",
      "  libstdcxx-ng                           11.2.0-he4da1e4_12 --> 12.1.0-ha89aaad_16\n",
      "  openssl                                 1.1.1l-h7f98852_0 --> 1.1.1p-h166bdaf_0\n",
      "\n",
      "\n",
      "\n",
      "Downloading and Extracting Packages\n",
      "libwebp-base-1.2.2   | 824 KB    | ##################################### | 100% \n",
      "openssl-1.1.1p       | 2.1 MB    | ##################################### | 100% \n",
      "tornado-6.1          | 645 KB    | ##################################### | 100% \n",
      "libtiff-4.3.0        | 635 KB    | ##################################### | 100% \n",
      "pillow-8.4.0         | 704 KB    | ##################################### | 100% \n",
      "certifi-2022.6.15    | 155 KB    | ##################################### | 100% \n",
      "openjpeg-2.4.0       | 444 KB    | ##################################### | 100% \n",
      "conda-4.13.0         | 994 KB    | ##################################### | 100% \n",
      "lcms2-2.12           | 443 KB    | ##################################### | 100% \n",
      "olefile-0.46         | 32 KB     | ##################################### | 100% \n",
      "lerc-3.0             | 216 KB    | ##################################### | 100% \n",
      "cycler-0.11.0        | 10 KB     | ##################################### | 100% \n",
      "libgcc-ng-12.1.0     | 940 KB    | ##################################### | 100% \n",
      "libpng-1.6.37        | 306 KB    | ##################################### | 100% \n",
      "kiwisolver-1.4.3     | 75 KB     | ##################################### | 100% \n",
      "jpeg-9e              | 268 KB    | ##################################### | 100% \n",
      "libstdcxx-ng-12.1.0  | 4.3 MB    | ##################################### | 100% \n",
      "libdeflate-1.10      | 77 KB     | ##################################### | 100% \n",
      "matplotlib-base-3.4. | 7.3 MB    | ##################################### | 100% \n",
      "python-dateutil-2.8. | 240 KB    | ##################################### | 100% \n",
      "ca-certificates-2022 | 149 KB    | ##################################### | 100% \n",
      "wordcloud-1.8.1      | 190 KB    | ##################################### | 100% \n",
      "freetype-2.10.4      | 890 KB    | ##################################### | 100% \n",
      "Preparing transaction: done\n",
      "Verifying transaction: done\n",
      "Executing transaction: done\n",
      "\n",
      "Note: you may need to restart the kernel to use updated packages.\n"
     ]
    }
   ],
   "source": [
    "%conda install -c conda-forge wordcloud"
   ]
  },
  {
   "cell_type": "code",
   "execution_count": 3,
   "id": "93ff53bf-2287-40bd-a82f-f02a9b68442b",
   "metadata": {},
   "outputs": [],
   "source": [
    "import pandas as pd\n",
    "import numpy as np\n",
    "import matplotlib.pyplot as plt\n",
    "import seaborn as sns\n",
    "sns.set_theme()\n",
    "import warnings\n",
    "from wordcloud import WordCloud\n",
    "warnings.filterwarnings(\"ignore\")"
   ]
  },
  {
   "cell_type": "code",
   "execution_count": 4,
   "id": "99884724-022c-4747-be3e-cca3e1993fae",
   "metadata": {},
   "outputs": [],
   "source": [
    "import wandb"
   ]
  },
  {
   "cell_type": "code",
   "execution_count": 5,
   "id": "ff29665a-63d9-4535-9e81-25210306f5d6",
   "metadata": {},
   "outputs": [
    {
     "name": "stderr",
     "output_type": "stream",
     "text": [
      "\u001b[34m\u001b[1mwandb\u001b[0m: Logging into wandb.ai. (Learn how to deploy a W&B server locally: https://wandb.me/wandb-server)\n",
      "\u001b[34m\u001b[1mwandb\u001b[0m: You can find your API key in your browser here: https://wandb.ai/authorize\n"
     ]
    },
    {
     "name": "stdin",
     "output_type": "stream",
     "text": [
      "\u001b[34m\u001b[1mwandb\u001b[0m: Paste an API key from your profile and hit enter, or press ctrl+c to quit:  ········································\n"
     ]
    },
    {
     "name": "stderr",
     "output_type": "stream",
     "text": [
      "\u001b[34m\u001b[1mwandb\u001b[0m: Appending key for api.wandb.ai to your netrc file: /root/.netrc\n"
     ]
    },
    {
     "data": {
      "text/plain": [
       "True"
      ]
     },
     "execution_count": 5,
     "metadata": {},
     "output_type": "execute_result"
    }
   ],
   "source": [
    "wandb.login()"
   ]
  },
  {
   "cell_type": "code",
   "execution_count": 6,
   "id": "9a99c630-6cfd-4d00-b95c-4d9ad2805fe7",
   "metadata": {},
   "outputs": [
    {
     "data": {
      "text/html": [
       "<div>\n",
       "<style scoped>\n",
       "    .dataframe tbody tr th:only-of-type {\n",
       "        vertical-align: middle;\n",
       "    }\n",
       "\n",
       "    .dataframe tbody tr th {\n",
       "        vertical-align: top;\n",
       "    }\n",
       "\n",
       "    .dataframe thead th {\n",
       "        text-align: right;\n",
       "    }\n",
       "</style>\n",
       "<table border=\"1\" class=\"dataframe\">\n",
       "  <thead>\n",
       "    <tr style=\"text-align: right;\">\n",
       "      <th></th>\n",
       "      <th>medical_specialty</th>\n",
       "      <th>transcription</th>\n",
       "    </tr>\n",
       "  </thead>\n",
       "  <tbody>\n",
       "    <tr>\n",
       "      <th>0</th>\n",
       "      <td>allergy / immunology</td>\n",
       "      <td>subjective 23 year old white female presents c...</td>\n",
       "    </tr>\n",
       "    <tr>\n",
       "      <th>1</th>\n",
       "      <td>bariatrics</td>\n",
       "      <td>past medical history difficulty climbing stair...</td>\n",
       "    </tr>\n",
       "    <tr>\n",
       "      <th>2</th>\n",
       "      <td>bariatrics</td>\n",
       "      <td>history present illness seen abc today pleasan...</td>\n",
       "    </tr>\n",
       "    <tr>\n",
       "      <th>3</th>\n",
       "      <td>cardiovascular / pulmonary</td>\n",
       "      <td>2 mode 1 left atrial enlargement left atrial d...</td>\n",
       "    </tr>\n",
       "    <tr>\n",
       "      <th>4</th>\n",
       "      <td>cardiovascular / pulmonary</td>\n",
       "      <td>1 left ventricular cavity size wall thickness ...</td>\n",
       "    </tr>\n",
       "  </tbody>\n",
       "</table>\n",
       "</div>"
      ],
      "text/plain": [
       "            medical_specialty  \\\n",
       "0        allergy / immunology   \n",
       "1                  bariatrics   \n",
       "2                  bariatrics   \n",
       "3  cardiovascular / pulmonary   \n",
       "4  cardiovascular / pulmonary   \n",
       "\n",
       "                                       transcription  \n",
       "0  subjective 23 year old white female presents c...  \n",
       "1  past medical history difficulty climbing stair...  \n",
       "2  history present illness seen abc today pleasan...  \n",
       "3  2 mode 1 left atrial enlargement left atrial d...  \n",
       "4  1 left ventricular cavity size wall thickness ...  "
      ]
     },
     "execution_count": 6,
     "metadata": {},
     "output_type": "execute_result"
    }
   ],
   "source": [
    "df = pd.read_csv('../dataset/processed/processed_transcriptions.csv')\n",
    "df.head()"
   ]
  },
  {
   "cell_type": "code",
   "execution_count": 9,
   "id": "14316335-25dd-413b-afb4-23e2a1528f9f",
   "metadata": {},
   "outputs": [
    {
     "name": "stdout",
     "output_type": "stream",
     "text": [
      "['allergy / immunology', 'bariatrics', 'cardiovascular / pulmonary', 'neurology', 'dentistry', 'urology', 'general medicine', 'surgery', 'speech language', 'soap / chart / progress notes', 'sleep medicine', 'rheumatology', 'radiology', 'psychiatry / psychology', 'podiatry', 'physical medicine rehab', 'pediatrics neonatal', 'pain management', 'orthopedic', 'ophthalmology', 'office notes', 'obstetrics / gynecology', 'neurosurgery', 'nephrology', 'letters', 'lab medicine pathology', 'ime qme work comp etc', 'hospice palliative care', 'hematology oncology', 'gastroenterology', 'ent otolaryngology', 'endocrinology', 'emergency room reports', 'discharge summary', 'diets nutritions', 'dermatology', 'cosmetic / plastic surgery', 'consult history phy', 'chiropractic', 'autopsy']\n"
     ]
    }
   ],
   "source": [
    "print(df.medical_specialty.unique().tolist())"
   ]
  },
  {
   "cell_type": "code",
   "execution_count": 10,
   "id": "eb39b0ec-cbe8-4534-bf34-e9dfda8fae6b",
   "metadata": {},
   "outputs": [],
   "source": [
    "from collections import Counter"
   ]
  },
  {
   "cell_type": "code",
   "execution_count": 14,
   "id": "7139e0c8-b705-4f1b-b470-b25ef4b0d673",
   "metadata": {},
   "outputs": [
    {
     "data": {
      "text/plain": [
       "{'allergy / immunology': 7,\n",
       " 'bariatrics': 18,\n",
       " 'dentistry': 27,\n",
       " 'speech language': 9,\n",
       " 'sleep medicine': 20,\n",
       " 'rheumatology': 10,\n",
       " 'psychiatry / psychology': 53,\n",
       " 'podiatry': 47,\n",
       " 'physical medicine rehab': 21,\n",
       " 'pediatrics neonatal': 70,\n",
       " 'pain management': 61,\n",
       " 'office notes': 50,\n",
       " 'letters': 23,\n",
       " 'lab medicine pathology': 8,\n",
       " 'ime qme work comp etc': 16,\n",
       " 'hospice palliative care': 6,\n",
       " 'endocrinology': 19,\n",
       " 'emergency room reports': 75,\n",
       " 'diets nutritions': 10,\n",
       " 'dermatology': 29,\n",
       " 'cosmetic / plastic surgery': 27,\n",
       " 'chiropractic': 14,\n",
       " 'autopsy': 8}"
      ]
     },
     "execution_count": 14,
     "metadata": {},
     "output_type": "execute_result"
    }
   ],
   "source": [
    "# Filter classes with less than < 50 sentences\n",
    "class_counter = Counter(df.medical_specialty)\n",
    "filtered_class_counter = {}\n",
    "for k, v in dict(class_counter).items():\n",
    "    if v <= 80:\n",
    "        filtered_class_counter[k] = v\n",
    "filtered_class_counter"
   ]
  },
  {
   "cell_type": "code",
   "execution_count": 34,
   "id": "81e7fb2b-ed85-4ddc-b7aa-6d8b55fe4b09",
   "metadata": {},
   "outputs": [],
   "source": [
    "def merge_and_rebuild_classes(df, filtered_classes):\n",
    "    filtered_classes.extend(['soap / chart / progress notes', 'discharge summary', 'consult history phy'])\n",
    "    # print(filtered_classes)\n",
    "    df = df[~df[\"medical_specialty\"].isin(filtered_classes)]\n",
    "    return df"
   ]
  },
  {
   "cell_type": "code",
   "execution_count": 35,
   "id": "07ab162e-77a1-4bae-b4b0-ca3f35e27730",
   "metadata": {},
   "outputs": [
    {
     "data": {
      "text/plain": [
       "['cardiovascular / pulmonary',\n",
       " 'neurology',\n",
       " 'urology',\n",
       " 'general medicine',\n",
       " 'surgery',\n",
       " 'radiology',\n",
       " 'orthopedic',\n",
       " 'ophthalmology',\n",
       " 'obstetrics / gynecology',\n",
       " 'neurosurgery',\n",
       " 'nephrology',\n",
       " 'hematology oncology',\n",
       " 'gastroenterology',\n",
       " 'ent otolaryngology']"
      ]
     },
     "execution_count": 35,
     "metadata": {},
     "output_type": "execute_result"
    }
   ],
   "source": [
    "filtered_df = merge_and_rebuild_classes(df, list(filtered_class_counter.keys()))\n",
    "filtered_df.medical_specialty.unique().tolist()"
   ]
  },
  {
   "cell_type": "code",
   "execution_count": 36,
   "id": "5595498a-7c07-4d30-852f-2e3fa6e1ee03",
   "metadata": {},
   "outputs": [],
   "source": [
    "# Feature and target\n",
    "X = filtered_df.transcription.to_numpy()\n",
    "y = filtered_df.medical_specialty"
   ]
  },
  {
   "cell_type": "code",
   "execution_count": 37,
   "id": "55707107-512e-4512-9bc6-a5ba952bac93",
   "metadata": {},
   "outputs": [],
   "source": [
    "import json"
   ]
  },
  {
   "cell_type": "code",
   "execution_count": 38,
   "id": "b53c0d4f-3379-4dbd-8230-189967b6a487",
   "metadata": {},
   "outputs": [],
   "source": [
    "# Label encoder to encode class labels\n",
    "class LabelEncoder(object):\n",
    "    \"\"\"Encode labels into unqiue ids/integers\"\"\"\n",
    "    def __init__(self, class_to_index={}):\n",
    "        self.class_to_index = class_to_index or {}\n",
    "        self.index_to_class = {v:k for k, v in self.class_to_index.items()}\n",
    "        self.classes = list(self.class_to_index.keys())\n",
    "        \n",
    "    def __len__(self):\n",
    "        return len(self.class_to_index)\n",
    "    \n",
    "    def __str__(self):\n",
    "        return f\"<LabelEncoder(num_classes={len(self)})>\"\n",
    "    \n",
    "    def fit(self, y):\n",
    "        classes = np.unique(y)\n",
    "        for i, class_ in enumerate(classes):\n",
    "            self.class_to_index[class_] = i\n",
    "        self.index_to_class = {v:k for k, v in self.class_to_index.items()}\n",
    "        self.classes = list(self.class_to_index.keys())\n",
    "        return self\n",
    "    \n",
    "    def encode(self, y):\n",
    "        encoded = np.zeros(len(y), dtype=int)\n",
    "        for i, item in enumerate(y):\n",
    "            encoded[i] = self.class_to_index[item]\n",
    "        return encoded\n",
    "    \n",
    "    def decode(self, y):\n",
    "        classes = []\n",
    "        for i, item in enumerate(y):\n",
    "            classes.append(self.index_to_class[item])\n",
    "            \n",
    "        return classes\n",
    "    \n",
    "    def save(self, fp):\n",
    "        with open(fp, \"w\") as fp:\n",
    "            contents = {\"class_to_index\": self.class_to_index}\n",
    "            json.dump(contents, fp, indent=4, sort_keys=False)\n",
    "    \n",
    "    @classmethod\n",
    "    def load(cls, fp):\n",
    "        with open(fp, \"r\") as fp:\n",
    "            kwargs = json.load(fp=fp)\n",
    "        return cls(**kwargs)"
   ]
  },
  {
   "cell_type": "code",
   "execution_count": 39,
   "id": "92bd588a-022d-4f7e-ba32-eac1a54ad13e",
   "metadata": {},
   "outputs": [
    {
     "data": {
      "text/plain": [
       "<__main__.LabelEncoder at 0x7fe786f9fb80>"
      ]
     },
     "execution_count": 39,
     "metadata": {},
     "output_type": "execute_result"
    }
   ],
   "source": [
    "label_encoder = LabelEncoder()\n",
    "label_encoder.fit(y)"
   ]
  },
  {
   "cell_type": "code",
   "execution_count": 40,
   "id": "afb9de4d-11ee-4775-a598-9bc11de63923",
   "metadata": {},
   "outputs": [
    {
     "data": {
      "text/plain": [
       "{'cardiovascular / pulmonary': 0,\n",
       " 'ent otolaryngology': 1,\n",
       " 'gastroenterology': 2,\n",
       " 'general medicine': 3,\n",
       " 'hematology oncology': 4,\n",
       " 'nephrology': 5,\n",
       " 'neurology': 6,\n",
       " 'neurosurgery': 7,\n",
       " 'obstetrics / gynecology': 8,\n",
       " 'ophthalmology': 9,\n",
       " 'orthopedic': 10,\n",
       " 'radiology': 11,\n",
       " 'surgery': 12,\n",
       " 'urology': 13}"
      ]
     },
     "execution_count": 40,
     "metadata": {},
     "output_type": "execute_result"
    }
   ],
   "source": [
    "NUM_CLASSES = len(label_encoder)\n",
    "label_encoder.class_to_index"
   ]
  },
  {
   "cell_type": "code",
   "execution_count": 48,
   "id": "104c6fc8-a624-49ff-b8ad-f6a308c1299d",
   "metadata": {},
   "outputs": [
    {
     "name": "stdout",
     "output_type": "stream",
     "text": [
      "Target sample: cardiovascular / pulmonary\n",
      "Encoded target sample: [0]\n"
     ]
    }
   ],
   "source": [
    "# Check one example\n",
    "print(f\"Target sample: {y[11]}\")\n",
    "print(f\"Encoded target sample: {label_encoder.encode([y[11]])}\")"
   ]
  },
  {
   "cell_type": "code",
   "execution_count": 49,
   "id": "1ffd0a35-e0df-48bc-8682-80b1da53cc20",
   "metadata": {},
   "outputs": [
    {
     "name": "stdout",
     "output_type": "stream",
     "text": [
      "(3548,)\n"
     ]
    }
   ],
   "source": [
    "# Encode all our labels\n",
    "y = label_encoder.encode(y)\n",
    "print(y.shape)"
   ]
  },
  {
   "cell_type": "code",
   "execution_count": 51,
   "id": "6d3f75ae-219b-42ca-853a-0c370a678d68",
   "metadata": {},
   "outputs": [],
   "source": [
    "from pathlib import Path"
   ]
  },
  {
   "cell_type": "code",
   "execution_count": 53,
   "id": "0f77f700-6c44-4a02-b017-42a41e597945",
   "metadata": {},
   "outputs": [],
   "source": [
    "label_encoder.save(Path(\"../data_artifacts/new_label_encoder.json\"))"
   ]
  },
  {
   "cell_type": "code",
   "execution_count": 54,
   "id": "72d1a2e3-ae1f-4d21-9dd2-d8984f0078dc",
   "metadata": {},
   "outputs": [],
   "source": [
    "from argparse import Namespace"
   ]
  },
  {
   "cell_type": "code",
   "execution_count": 55,
   "id": "fcfa2d59-0f2d-4802-a1c6-bc800257cfc5",
   "metadata": {},
   "outputs": [],
   "source": [
    "data_args = Namespace(\n",
    "    lower=True,\n",
    "    stem=False,\n",
    "    num_classes=NUM_CLASSES\n",
    ")"
   ]
  },
  {
   "cell_type": "code",
   "execution_count": 56,
   "id": "a6d96575-4fd8-4c56-85ab-f19a6f6c5a8f",
   "metadata": {},
   "outputs": [
    {
     "name": "stderr",
     "output_type": "stream",
     "text": [
      "\u001b[34m\u001b[1mwandb\u001b[0m: Currently logged in as: \u001b[33malokpadhi\u001b[0m. Use \u001b[1m`wandb login --relogin`\u001b[0m to force relogin\n"
     ]
    },
    {
     "data": {
      "text/html": [
       "Tracking run with wandb version 0.12.19"
      ],
      "text/plain": [
       "<IPython.core.display.HTML object>"
      ]
     },
     "metadata": {},
     "output_type": "display_data"
    },
    {
     "data": {
      "text/html": [
       "Run data is saved locally in <code>/notebooks/project/medical-transcriptions/notebooks/wandb/run-20220625_110833-2h7zat6y</code>"
      ],
      "text/plain": [
       "<IPython.core.display.HTML object>"
      ]
     },
     "metadata": {},
     "output_type": "display_data"
    },
    {
     "data": {
      "text/html": [
       "Syncing run <strong><a href=\"https://wandb.ai/alokpadhi/Medical-Transcription/runs/2h7zat6y\" target=\"_blank\">ethereal-oath-17</a></strong> to <a href=\"https://wandb.ai/alokpadhi/Medical-Transcription\" target=\"_blank\">Weights & Biases</a> (<a href=\"https://wandb.me/run\" target=\"_blank\">docs</a>)<br/>"
      ],
      "text/plain": [
       "<IPython.core.display.HTML object>"
      ]
     },
     "metadata": {},
     "output_type": "display_data"
    }
   ],
   "source": [
    "# initialize wandb project\n",
    "run = wandb.init(project=\"Medical-Transcription\", entity=\"alokpadhi\")"
   ]
  },
  {
   "cell_type": "code",
   "execution_count": 57,
   "id": "9c9a530b-697d-4118-963c-29e8f2fce3d5",
   "metadata": {},
   "outputs": [],
   "source": [
    "run.log({\"dataset_args\": vars(data_args)})"
   ]
  },
  {
   "cell_type": "code",
   "execution_count": 58,
   "id": "086aefec-6e3f-4f49-af3a-85c194e5cabd",
   "metadata": {},
   "outputs": [
    {
     "name": "stderr",
     "output_type": "stream",
     "text": [
      "\u001b[34m\u001b[1mwandb\u001b[0m: Adding directory to artifact (./../data_artifacts)... Done. 0.0s\n"
     ]
    },
    {
     "data": {
      "text/plain": [
       "<wandb.sdk.wandb_artifacts.Artifact at 0x7fe7860fbb80>"
      ]
     },
     "execution_count": 58,
     "metadata": {},
     "output_type": "execute_result"
    }
   ],
   "source": [
    "data_artifacts = wandb.Artifact(\"Artifacts-for-data\", type=\"Preprocessing_Artifacts\")\n",
    "data_artifacts.add_dir(Path(\"../data_artifacts\"))\n",
    "run.log_artifact(data_artifacts)"
   ]
  },
  {
   "cell_type": "code",
   "execution_count": 59,
   "id": "aff0906b-57ea-4954-90ce-93f1ec7a203e",
   "metadata": {},
   "outputs": [],
   "source": [
    "from sklearn.model_selection import train_test_split"
   ]
  },
  {
   "cell_type": "code",
   "execution_count": 60,
   "id": "b46ff212-817c-4b82-a78a-bf1fa8f45ce2",
   "metadata": {},
   "outputs": [],
   "source": [
    "# split sizes\n",
    "train_size = 0.7\n",
    "val_size = 0.15\n",
    "test_size = 0.15"
   ]
  },
  {
   "cell_type": "code",
   "execution_count": 61,
   "id": "48905681-6b05-41b9-b4da-ef2045d5bf79",
   "metadata": {},
   "outputs": [],
   "source": [
    "# To ensure the target distribution remains same across the splits\n",
    "X_train, X_, y_train, y_ = train_test_split(\n",
    "                            X, y, train_size=train_size, stratify=y)"
   ]
  },
  {
   "cell_type": "code",
   "execution_count": 62,
   "id": "c9dcc7ab-9342-4e6c-bfd6-be8f3c7b7227",
   "metadata": {},
   "outputs": [
    {
     "name": "stdout",
     "output_type": "stream",
     "text": [
      "train: 2483 (0.70)\n",
      "remaining: 1065 (0.30)\n"
     ]
    }
   ],
   "source": [
    "print(f\"train: {len(X_train)} ({(len(X_train)/len(X)):.2f})\\n\"\n",
    "     f\"remaining: {len(X_)} ({(len(X_)/len(X)):.2f})\")"
   ]
  },
  {
   "cell_type": "code",
   "execution_count": 63,
   "id": "181ed1e9-4061-4e3b-8508-719271ce0fa5",
   "metadata": {},
   "outputs": [],
   "source": [
    "# split for validation and test set\n",
    "X_val, X_test, y_val, y_test = train_test_split(\n",
    "                                X_, y_, train_size=0.5, stratify=y_)"
   ]
  },
  {
   "cell_type": "code",
   "execution_count": 64,
   "id": "8dd36e2e-1220-4d45-99ca-e2bfe6b0b02a",
   "metadata": {},
   "outputs": [
    {
     "name": "stdout",
     "output_type": "stream",
     "text": [
      "train: 2483 (0.70)\n",
      "val: 532 (0.15)\n",
      "test: 533 (0.15)\n"
     ]
    }
   ],
   "source": [
    "print(f\"train: {len(X_train)} ({(len(X_train)/len(X)):.2f})\\n\"\n",
    "     f\"val: {len(X_val)} ({(len(X_val)/len(X)):.2f})\\n\"\n",
    "     f\"test: {len(X_test)} ({(len(X_test)/len(X)):.2f})\")"
   ]
  },
  {
   "cell_type": "code",
   "execution_count": 65,
   "id": "988cdad3-699b-4c17-86c8-1c8db7fd8cc5",
   "metadata": {},
   "outputs": [],
   "source": [
    "train_df = pd.DataFrame({\"transcription\": X_train, \"specialty\": label_encoder.decode(y_train)})\n",
    "val_df = pd.DataFrame({\"transcription\": X_val, \"specialty\": label_encoder.decode(y_val)})\n",
    "test_df = pd.DataFrame({\"transcription\": X_test, \"specialty\": label_encoder.decode(y_test)})"
   ]
  },
  {
   "cell_type": "code",
   "execution_count": 76,
   "id": "9482a5ae-7216-416b-b862-53c0e3c6e592",
   "metadata": {},
   "outputs": [],
   "source": [
    "v2_dataset_path = Path(\"../dataset/v2.0/\")"
   ]
  },
  {
   "cell_type": "code",
   "execution_count": 77,
   "id": "8d18285c-d895-4e48-a907-024cacd6139e",
   "metadata": {},
   "outputs": [
    {
     "data": {
      "text/plain": [
       "pathlib.PosixPath"
      ]
     },
     "execution_count": 77,
     "metadata": {},
     "output_type": "execute_result"
    }
   ],
   "source": [
    "type(v2_dataset_path)"
   ]
  },
  {
   "cell_type": "code",
   "execution_count": 78,
   "id": "092c9d61-1b76-412b-a7b3-50c173357771",
   "metadata": {},
   "outputs": [],
   "source": [
    "train_df.to_parquet(Path(v2_dataset_path,\"train.parquet\"), index=False)\n",
    "val_df.to_parquet(Path(v2_dataset_path,\"val.parquet\"),index=False)\n",
    "test_df.to_parquet(Path(v2_dataset_path,\"test.parquet\"),index=False)"
   ]
  },
  {
   "cell_type": "code",
   "execution_count": 80,
   "id": "77cecdc5-8832-48d2-9142-f920e6393bd1",
   "metadata": {},
   "outputs": [
    {
     "name": "stderr",
     "output_type": "stream",
     "text": [
      "\u001b[34m\u001b[1mwandb\u001b[0m: Adding directory to artifact (./../dataset/v2.0)... Done. 0.1s\n"
     ]
    },
    {
     "data": {
      "text/plain": [
       "<wandb.sdk.wandb_artifacts.Artifact at 0x7fe749809460>"
      ]
     },
     "execution_count": 80,
     "metadata": {},
     "output_type": "execute_result"
    }
   ],
   "source": [
    "datav2 = wandb.Artifact(\"Dataset_V2_0\", type=\"raw_data\", description=\"Train, Val and test splits\", metadata={\"train_size\": len(train_df), \"val_size\": len(val_df),\n",
    "                                                                                                            \"test_size\": len(test_df)})\n",
    "datav2.add_dir(v2_dataset_path)\n",
    "    \n",
    "run.log_artifact(datav2)"
   ]
  },
  {
   "cell_type": "code",
   "execution_count": null,
   "id": "1c82100d-d6f3-4279-b1e7-eee7cdf411a1",
   "metadata": {},
   "outputs": [],
   "source": []
  }
 ],
 "metadata": {
  "kernelspec": {
   "display_name": "Python 3 (ipykernel)",
   "language": "python",
   "name": "python3"
  },
  "language_info": {
   "codemirror_mode": {
    "name": "ipython",
    "version": 3
   },
   "file_extension": ".py",
   "mimetype": "text/x-python",
   "name": "python",
   "nbconvert_exporter": "python",
   "pygments_lexer": "ipython3",
   "version": "3.8.12"
  }
 },
 "nbformat": 4,
 "nbformat_minor": 5
}
